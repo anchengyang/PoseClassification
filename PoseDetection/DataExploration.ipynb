{
 "cells": [
  {
   "cell_type": "code",
   "execution_count": 51,
   "metadata": {},
   "outputs": [
    {
     "data": {
      "text/html": [
       "<div>\n",
       "<style scoped>\n",
       "    .dataframe tbody tr th:only-of-type {\n",
       "        vertical-align: middle;\n",
       "    }\n",
       "\n",
       "    .dataframe tbody tr th {\n",
       "        vertical-align: top;\n",
       "    }\n",
       "\n",
       "    .dataframe thead th {\n",
       "        text-align: right;\n",
       "    }\n",
       "</style>\n",
       "<table border=\"1\" class=\"dataframe\">\n",
       "  <thead>\n",
       "    <tr style=\"text-align: right;\">\n",
       "      <th></th>\n",
       "      <th>x1</th>\n",
       "      <th>y1</th>\n",
       "      <th>z1</th>\n",
       "      <th>v1</th>\n",
       "      <th>x2</th>\n",
       "      <th>y2</th>\n",
       "      <th>z2</th>\n",
       "      <th>v2</th>\n",
       "      <th>x3</th>\n",
       "      <th>y3</th>\n",
       "      <th>...</th>\n",
       "      <th>v31</th>\n",
       "      <th>x32</th>\n",
       "      <th>y32</th>\n",
       "      <th>z32</th>\n",
       "      <th>v32</th>\n",
       "      <th>x33</th>\n",
       "      <th>y33</th>\n",
       "      <th>z33</th>\n",
       "      <th>v33</th>\n",
       "      <th>class</th>\n",
       "    </tr>\n",
       "  </thead>\n",
       "  <tbody>\n",
       "    <tr>\n",
       "      <th>0</th>\n",
       "      <td>0.158780</td>\n",
       "      <td>-0.673855</td>\n",
       "      <td>-0.186296</td>\n",
       "      <td>0.999996</td>\n",
       "      <td>0.180337</td>\n",
       "      <td>-0.703550</td>\n",
       "      <td>-0.170040</td>\n",
       "      <td>0.999988</td>\n",
       "      <td>0.179809</td>\n",
       "      <td>-0.703629</td>\n",
       "      <td>...</td>\n",
       "      <td>0.875374</td>\n",
       "      <td>0.054045</td>\n",
       "      <td>0.833149</td>\n",
       "      <td>0.087747</td>\n",
       "      <td>0.987446</td>\n",
       "      <td>-0.261594</td>\n",
       "      <td>0.825552</td>\n",
       "      <td>0.102739</td>\n",
       "      <td>0.987012</td>\n",
       "      <td>NaN</td>\n",
       "    </tr>\n",
       "    <tr>\n",
       "      <th>1</th>\n",
       "      <td>0.158124</td>\n",
       "      <td>-0.678320</td>\n",
       "      <td>-0.183805</td>\n",
       "      <td>0.999996</td>\n",
       "      <td>0.178972</td>\n",
       "      <td>-0.708250</td>\n",
       "      <td>-0.167016</td>\n",
       "      <td>0.999988</td>\n",
       "      <td>0.178455</td>\n",
       "      <td>-0.708327</td>\n",
       "      <td>...</td>\n",
       "      <td>0.870831</td>\n",
       "      <td>0.075006</td>\n",
       "      <td>0.831442</td>\n",
       "      <td>0.093544</td>\n",
       "      <td>0.986248</td>\n",
       "      <td>-0.264204</td>\n",
       "      <td>0.821462</td>\n",
       "      <td>0.081046</td>\n",
       "      <td>0.986238</td>\n",
       "      <td>NaN</td>\n",
       "    </tr>\n",
       "    <tr>\n",
       "      <th>2</th>\n",
       "      <td>0.157839</td>\n",
       "      <td>-0.679194</td>\n",
       "      <td>-0.183637</td>\n",
       "      <td>0.999996</td>\n",
       "      <td>0.178438</td>\n",
       "      <td>-0.709184</td>\n",
       "      <td>-0.166715</td>\n",
       "      <td>0.999988</td>\n",
       "      <td>0.177924</td>\n",
       "      <td>-0.709261</td>\n",
       "      <td>...</td>\n",
       "      <td>0.867942</td>\n",
       "      <td>0.079745</td>\n",
       "      <td>0.831420</td>\n",
       "      <td>0.093722</td>\n",
       "      <td>0.985029</td>\n",
       "      <td>-0.264317</td>\n",
       "      <td>0.821420</td>\n",
       "      <td>0.070442</td>\n",
       "      <td>0.985416</td>\n",
       "      <td>NaN</td>\n",
       "    </tr>\n",
       "    <tr>\n",
       "      <th>3</th>\n",
       "      <td>0.153888</td>\n",
       "      <td>-0.678638</td>\n",
       "      <td>-0.180764</td>\n",
       "      <td>0.999996</td>\n",
       "      <td>0.174234</td>\n",
       "      <td>-0.708881</td>\n",
       "      <td>-0.163797</td>\n",
       "      <td>0.999988</td>\n",
       "      <td>0.173717</td>\n",
       "      <td>-0.708960</td>\n",
       "      <td>...</td>\n",
       "      <td>0.866256</td>\n",
       "      <td>0.077643</td>\n",
       "      <td>0.831374</td>\n",
       "      <td>0.093076</td>\n",
       "      <td>0.984004</td>\n",
       "      <td>-0.264340</td>\n",
       "      <td>0.821542</td>\n",
       "      <td>0.060991</td>\n",
       "      <td>0.984938</td>\n",
       "      <td>NaN</td>\n",
       "    </tr>\n",
       "    <tr>\n",
       "      <th>4</th>\n",
       "      <td>0.143902</td>\n",
       "      <td>-0.677411</td>\n",
       "      <td>-0.185008</td>\n",
       "      <td>0.999996</td>\n",
       "      <td>0.163196</td>\n",
       "      <td>-0.708295</td>\n",
       "      <td>-0.168243</td>\n",
       "      <td>0.999988</td>\n",
       "      <td>0.162679</td>\n",
       "      <td>-0.708372</td>\n",
       "      <td>...</td>\n",
       "      <td>0.865170</td>\n",
       "      <td>0.064358</td>\n",
       "      <td>0.830630</td>\n",
       "      <td>0.097887</td>\n",
       "      <td>0.983193</td>\n",
       "      <td>-0.267096</td>\n",
       "      <td>0.821610</td>\n",
       "      <td>0.064262</td>\n",
       "      <td>0.984547</td>\n",
       "      <td>NaN</td>\n",
       "    </tr>\n",
       "  </tbody>\n",
       "</table>\n",
       "<p>5 rows × 133 columns</p>\n",
       "</div>"
      ],
      "text/plain": [
       "         x1        y1        z1        v1        x2        y2        z2  \\\n",
       "0  0.158780 -0.673855 -0.186296  0.999996  0.180337 -0.703550 -0.170040   \n",
       "1  0.158124 -0.678320 -0.183805  0.999996  0.178972 -0.708250 -0.167016   \n",
       "2  0.157839 -0.679194 -0.183637  0.999996  0.178438 -0.709184 -0.166715   \n",
       "3  0.153888 -0.678638 -0.180764  0.999996  0.174234 -0.708881 -0.163797   \n",
       "4  0.143902 -0.677411 -0.185008  0.999996  0.163196 -0.708295 -0.168243   \n",
       "\n",
       "         v2        x3        y3  ...       v31       x32       y32       z32  \\\n",
       "0  0.999988  0.179809 -0.703629  ...  0.875374  0.054045  0.833149  0.087747   \n",
       "1  0.999988  0.178455 -0.708327  ...  0.870831  0.075006  0.831442  0.093544   \n",
       "2  0.999988  0.177924 -0.709261  ...  0.867942  0.079745  0.831420  0.093722   \n",
       "3  0.999988  0.173717 -0.708960  ...  0.866256  0.077643  0.831374  0.093076   \n",
       "4  0.999988  0.162679 -0.708372  ...  0.865170  0.064358  0.830630  0.097887   \n",
       "\n",
       "        v32       x33       y33       z33       v33  class  \n",
       "0  0.987446 -0.261594  0.825552  0.102739  0.987012    NaN  \n",
       "1  0.986248 -0.264204  0.821462  0.081046  0.986238    NaN  \n",
       "2  0.985029 -0.264317  0.821420  0.070442  0.985416    NaN  \n",
       "3  0.984004 -0.264340  0.821542  0.060991  0.984938    NaN  \n",
       "4  0.983193 -0.267096  0.821610  0.064262  0.984547    NaN  \n",
       "\n",
       "[5 rows x 133 columns]"
      ]
     },
     "execution_count": 51,
     "metadata": {},
     "output_type": "execute_result"
    }
   ],
   "source": [
    "import pandas as pd\n",
    "# import csv file and convert into a pandas dataframe\n",
    "df = pd.read_csv('C:/Users/chengyang/Physio/src/PoseDetection/SquatData/squat4.csv')\n",
    "df.head()"
   ]
  },
  {
   "cell_type": "code",
   "execution_count": 52,
   "metadata": {},
   "outputs": [
    {
     "data": {
      "application/vnd.plotly.v1+json": {
       "config": {
        "plotlyServerURL": "https://plot.ly"
       },
       "data": [
        {
         "hovertemplate": "variable=x24<br>index=%{x}<br>coordinate=%{y}<extra></extra>",
         "legendgroup": "x24",
         "line": {
          "color": "#636efa",
          "dash": "solid"
         },
         "marker": {
          "symbol": "circle"
         },
         "mode": "lines",
         "name": "x24",
         "orientation": "v",
         "showlegend": true,
         "type": "scatter",
         "x": [
          0,
          1,
          2,
          3,
          4,
          5,
          6,
          7,
          8,
          9,
          10,
          11,
          12,
          13,
          14,
          15,
          16,
          17,
          18,
          19,
          20,
          21,
          22,
          23,
          24,
          25,
          26,
          27,
          28,
          29,
          30,
          31,
          32,
          33,
          34,
          35,
          36,
          37,
          38,
          39,
          40,
          41,
          42,
          43,
          44,
          45,
          46,
          47,
          48,
          49,
          50,
          51,
          52,
          53,
          54,
          55,
          56,
          57,
          58,
          59,
          60,
          61,
          62
         ],
         "xaxis": "x",
         "y": [
          0.0979717895388603,
          0.0978735089302063,
          0.0976224839687347,
          0.0976134240627288,
          0.0976155176758766,
          0.0977677032351493,
          0.0978447869420051,
          0.0980653315782547,
          0.0981356874108314,
          0.0981578156352043,
          0.0983925312757492,
          0.0988314747810363,
          0.0993178114295005,
          0.0996062979102134,
          0.099621295928955,
          0.1001559570431709,
          0.1004905924201011,
          0.1013290584087371,
          0.1019429713487625,
          0.1022017076611518,
          0.10224599391222,
          0.1022592037916183,
          0.1022695079445838,
          0.1022763475775718,
          0.1023972034454345,
          0.102550521492958,
          0.1025559529662132,
          0.1025640815496444,
          0.1025677770376205,
          0.1025304272770881,
          0.1025259494781494,
          0.1024359017610549,
          0.1022659987211227,
          0.1022582650184631,
          0.1027582585811615,
          0.1028288230299949,
          0.1028286144137382,
          0.1027429699897766,
          0.1027219146490097,
          0.10270606726408,
          0.1023936867713928,
          0.1019531860947609,
          0.1014146506786346,
          0.1011384129524231,
          0.1004118546843528,
          0.0997528061270713,
          0.099162720143795,
          0.0987810716032981,
          0.0982810407876968,
          0.0978793576359748,
          0.0973805114626884,
          0.096839316189289,
          0.0966172888875007,
          0.0965180099010467,
          0.0962882041931152,
          0.0960840135812759,
          0.0959004685282707,
          0.0956736281514167,
          0.0955503210425376,
          0.0954862236976623,
          0.0954030752182006,
          0.0953264757990837,
          0.0951361507177352
         ],
         "yaxis": "y"
        },
        {
         "hovertemplate": "variable=y24<br>index=%{x}<br>coordinate=%{y}<extra></extra>",
         "legendgroup": "y24",
         "line": {
          "color": "#EF553B",
          "dash": "solid"
         },
         "marker": {
          "symbol": "circle"
         },
         "mode": "lines",
         "name": "y24",
         "orientation": "v",
         "showlegend": true,
         "type": "scatter",
         "x": [
          0,
          1,
          2,
          3,
          4,
          5,
          6,
          7,
          8,
          9,
          10,
          11,
          12,
          13,
          14,
          15,
          16,
          17,
          18,
          19,
          20,
          21,
          22,
          23,
          24,
          25,
          26,
          27,
          28,
          29,
          30,
          31,
          32,
          33,
          34,
          35,
          36,
          37,
          38,
          39,
          40,
          41,
          42,
          43,
          44,
          45,
          46,
          47,
          48,
          49,
          50,
          51,
          52,
          53,
          54,
          55,
          56,
          57,
          58,
          59,
          60,
          61,
          62
         ],
         "xaxis": "x",
         "y": [
          0.0171447843313217,
          0.017142966389656,
          0.0171229597181081,
          0.0170977618545293,
          0.0170723367482423,
          0.0170764699578285,
          0.0173486769199371,
          0.0174351632595062,
          0.0176557134836912,
          0.0177846234291791,
          0.0179287269711494,
          0.0179824717342853,
          0.018024431541562,
          0.0180433206260204,
          0.0179540086537599,
          0.0177173893898725,
          0.0175636298954486,
          0.0175325125455856,
          0.0173771232366561,
          0.0171059910207986,
          0.0168957971036434,
          0.0167443882673978,
          0.016574403271079,
          0.0165453031659126,
          0.0165824964642524,
          0.0165622141212224,
          0.0164880137890577,
          0.0163673516362905,
          0.0162596050649881,
          0.0162696540355682,
          0.0165175423026084,
          0.0169737227261066,
          0.0171246528625488,
          0.0171485785394907,
          0.0172154773026704,
          0.0171886198222637,
          0.0172090139240026,
          0.017558179795742,
          0.0175239276140928,
          0.0176546983420848,
          0.018054362386465,
          0.0182119738310575,
          0.0185123048722744,
          0.018764492124319,
          0.0191386509686708,
          0.0193948876112699,
          0.0196317974478006,
          0.0198507793247699,
          0.0201011635363101,
          0.0202021598815917,
          0.020375458523631,
          0.0204778034240007,
          0.0205036513507366,
          0.0205427724868059,
          0.0206234492361545,
          0.0207020621746778,
          0.0207680705934762,
          0.0208448003977537,
          0.0210028402507305,
          0.0210852101445198,
          0.0211476124823093,
          0.0211782790720462,
          0.0212299730628728
         ],
         "yaxis": "y"
        },
        {
         "hovertemplate": "variable=z24<br>index=%{x}<br>coordinate=%{y}<extra></extra>",
         "legendgroup": "z24",
         "line": {
          "color": "#00cc96",
          "dash": "solid"
         },
         "marker": {
          "symbol": "circle"
         },
         "mode": "lines",
         "name": "z24",
         "orientation": "v",
         "showlegend": true,
         "type": "scatter",
         "x": [
          0,
          1,
          2,
          3,
          4,
          5,
          6,
          7,
          8,
          9,
          10,
          11,
          12,
          13,
          14,
          15,
          16,
          17,
          18,
          19,
          20,
          21,
          22,
          23,
          24,
          25,
          26,
          27,
          28,
          29,
          30,
          31,
          32,
          33,
          34,
          35,
          36,
          37,
          38,
          39,
          40,
          41,
          42,
          43,
          44,
          45,
          46,
          47,
          48,
          49,
          50,
          51,
          52,
          53,
          54,
          55,
          56,
          57,
          58,
          59,
          60,
          61,
          62
         ],
         "xaxis": "x",
         "y": [
          0.0038342168554663,
          0.0059729544445872,
          0.0069467360153794,
          0.0069304634816944,
          0.0069531602784991,
          0.0071814125403761,
          0.0068936785683035,
          0.0056751263327896,
          0.0045904205180704,
          0.0045951013453304,
          0.0048286346718668,
          0.0072984178550541,
          0.0092080263420939,
          0.0107911136001348,
          0.0148964840918779,
          0.0180309824645519,
          0.0179758258163929,
          0.0164426360279321,
          0.0163455754518508,
          0.0163330752402544,
          0.0175119861960411,
          0.0184345822781324,
          0.0187738221138715,
          0.0187242291867733,
          0.018686581403017,
          0.0189111959189176,
          0.018159607425332,
          0.0173860006034374,
          0.0169684793800115,
          0.0170353129506111,
          0.0168308690190315,
          0.0193771068006753,
          0.0203361995518207,
          0.0203937664628028,
          0.0195444021373987,
          0.0186488181352615,
          0.0188314951956272,
          0.0190220568329095,
          0.0188625622540712,
          0.0174278896301984,
          0.0172781813889741,
          0.0181765053421258,
          0.0181726906448602,
          0.0182497631758451,
          0.0202086009085178,
          0.0216394383460283,
          0.0226610992103815,
          0.0242495723068714,
          0.0241830497980117,
          0.0241467524319887,
          0.0240222439169883,
          0.0239819977432489,
          0.0240226089954376,
          0.0243488382548093,
          0.0243668146431446,
          0.0248493812978267,
          0.0255131907761096,
          0.0255900025367736,
          0.0255913026630878,
          0.0256661772727966,
          0.0256838966161012,
          0.02603573910892,
          0.02627445012331
         ],
         "yaxis": "y"
        }
       ],
       "layout": {
        "legend": {
         "title": {
          "text": "variable"
         },
         "tracegroupgap": 0
        },
        "template": {
         "data": {
          "bar": [
           {
            "error_x": {
             "color": "#2a3f5f"
            },
            "error_y": {
             "color": "#2a3f5f"
            },
            "marker": {
             "line": {
              "color": "#E5ECF6",
              "width": 0.5
             },
             "pattern": {
              "fillmode": "overlay",
              "size": 10,
              "solidity": 0.2
             }
            },
            "type": "bar"
           }
          ],
          "barpolar": [
           {
            "marker": {
             "line": {
              "color": "#E5ECF6",
              "width": 0.5
             },
             "pattern": {
              "fillmode": "overlay",
              "size": 10,
              "solidity": 0.2
             }
            },
            "type": "barpolar"
           }
          ],
          "carpet": [
           {
            "aaxis": {
             "endlinecolor": "#2a3f5f",
             "gridcolor": "white",
             "linecolor": "white",
             "minorgridcolor": "white",
             "startlinecolor": "#2a3f5f"
            },
            "baxis": {
             "endlinecolor": "#2a3f5f",
             "gridcolor": "white",
             "linecolor": "white",
             "minorgridcolor": "white",
             "startlinecolor": "#2a3f5f"
            },
            "type": "carpet"
           }
          ],
          "choropleth": [
           {
            "colorbar": {
             "outlinewidth": 0,
             "ticks": ""
            },
            "type": "choropleth"
           }
          ],
          "contour": [
           {
            "colorbar": {
             "outlinewidth": 0,
             "ticks": ""
            },
            "colorscale": [
             [
              0,
              "#0d0887"
             ],
             [
              0.1111111111111111,
              "#46039f"
             ],
             [
              0.2222222222222222,
              "#7201a8"
             ],
             [
              0.3333333333333333,
              "#9c179e"
             ],
             [
              0.4444444444444444,
              "#bd3786"
             ],
             [
              0.5555555555555556,
              "#d8576b"
             ],
             [
              0.6666666666666666,
              "#ed7953"
             ],
             [
              0.7777777777777778,
              "#fb9f3a"
             ],
             [
              0.8888888888888888,
              "#fdca26"
             ],
             [
              1,
              "#f0f921"
             ]
            ],
            "type": "contour"
           }
          ],
          "contourcarpet": [
           {
            "colorbar": {
             "outlinewidth": 0,
             "ticks": ""
            },
            "type": "contourcarpet"
           }
          ],
          "heatmap": [
           {
            "colorbar": {
             "outlinewidth": 0,
             "ticks": ""
            },
            "colorscale": [
             [
              0,
              "#0d0887"
             ],
             [
              0.1111111111111111,
              "#46039f"
             ],
             [
              0.2222222222222222,
              "#7201a8"
             ],
             [
              0.3333333333333333,
              "#9c179e"
             ],
             [
              0.4444444444444444,
              "#bd3786"
             ],
             [
              0.5555555555555556,
              "#d8576b"
             ],
             [
              0.6666666666666666,
              "#ed7953"
             ],
             [
              0.7777777777777778,
              "#fb9f3a"
             ],
             [
              0.8888888888888888,
              "#fdca26"
             ],
             [
              1,
              "#f0f921"
             ]
            ],
            "type": "heatmap"
           }
          ],
          "heatmapgl": [
           {
            "colorbar": {
             "outlinewidth": 0,
             "ticks": ""
            },
            "colorscale": [
             [
              0,
              "#0d0887"
             ],
             [
              0.1111111111111111,
              "#46039f"
             ],
             [
              0.2222222222222222,
              "#7201a8"
             ],
             [
              0.3333333333333333,
              "#9c179e"
             ],
             [
              0.4444444444444444,
              "#bd3786"
             ],
             [
              0.5555555555555556,
              "#d8576b"
             ],
             [
              0.6666666666666666,
              "#ed7953"
             ],
             [
              0.7777777777777778,
              "#fb9f3a"
             ],
             [
              0.8888888888888888,
              "#fdca26"
             ],
             [
              1,
              "#f0f921"
             ]
            ],
            "type": "heatmapgl"
           }
          ],
          "histogram": [
           {
            "marker": {
             "pattern": {
              "fillmode": "overlay",
              "size": 10,
              "solidity": 0.2
             }
            },
            "type": "histogram"
           }
          ],
          "histogram2d": [
           {
            "colorbar": {
             "outlinewidth": 0,
             "ticks": ""
            },
            "colorscale": [
             [
              0,
              "#0d0887"
             ],
             [
              0.1111111111111111,
              "#46039f"
             ],
             [
              0.2222222222222222,
              "#7201a8"
             ],
             [
              0.3333333333333333,
              "#9c179e"
             ],
             [
              0.4444444444444444,
              "#bd3786"
             ],
             [
              0.5555555555555556,
              "#d8576b"
             ],
             [
              0.6666666666666666,
              "#ed7953"
             ],
             [
              0.7777777777777778,
              "#fb9f3a"
             ],
             [
              0.8888888888888888,
              "#fdca26"
             ],
             [
              1,
              "#f0f921"
             ]
            ],
            "type": "histogram2d"
           }
          ],
          "histogram2dcontour": [
           {
            "colorbar": {
             "outlinewidth": 0,
             "ticks": ""
            },
            "colorscale": [
             [
              0,
              "#0d0887"
             ],
             [
              0.1111111111111111,
              "#46039f"
             ],
             [
              0.2222222222222222,
              "#7201a8"
             ],
             [
              0.3333333333333333,
              "#9c179e"
             ],
             [
              0.4444444444444444,
              "#bd3786"
             ],
             [
              0.5555555555555556,
              "#d8576b"
             ],
             [
              0.6666666666666666,
              "#ed7953"
             ],
             [
              0.7777777777777778,
              "#fb9f3a"
             ],
             [
              0.8888888888888888,
              "#fdca26"
             ],
             [
              1,
              "#f0f921"
             ]
            ],
            "type": "histogram2dcontour"
           }
          ],
          "mesh3d": [
           {
            "colorbar": {
             "outlinewidth": 0,
             "ticks": ""
            },
            "type": "mesh3d"
           }
          ],
          "parcoords": [
           {
            "line": {
             "colorbar": {
              "outlinewidth": 0,
              "ticks": ""
             }
            },
            "type": "parcoords"
           }
          ],
          "pie": [
           {
            "automargin": true,
            "type": "pie"
           }
          ],
          "scatter": [
           {
            "fillpattern": {
             "fillmode": "overlay",
             "size": 10,
             "solidity": 0.2
            },
            "type": "scatter"
           }
          ],
          "scatter3d": [
           {
            "line": {
             "colorbar": {
              "outlinewidth": 0,
              "ticks": ""
             }
            },
            "marker": {
             "colorbar": {
              "outlinewidth": 0,
              "ticks": ""
             }
            },
            "type": "scatter3d"
           }
          ],
          "scattercarpet": [
           {
            "marker": {
             "colorbar": {
              "outlinewidth": 0,
              "ticks": ""
             }
            },
            "type": "scattercarpet"
           }
          ],
          "scattergeo": [
           {
            "marker": {
             "colorbar": {
              "outlinewidth": 0,
              "ticks": ""
             }
            },
            "type": "scattergeo"
           }
          ],
          "scattergl": [
           {
            "marker": {
             "colorbar": {
              "outlinewidth": 0,
              "ticks": ""
             }
            },
            "type": "scattergl"
           }
          ],
          "scattermapbox": [
           {
            "marker": {
             "colorbar": {
              "outlinewidth": 0,
              "ticks": ""
             }
            },
            "type": "scattermapbox"
           }
          ],
          "scatterpolar": [
           {
            "marker": {
             "colorbar": {
              "outlinewidth": 0,
              "ticks": ""
             }
            },
            "type": "scatterpolar"
           }
          ],
          "scatterpolargl": [
           {
            "marker": {
             "colorbar": {
              "outlinewidth": 0,
              "ticks": ""
             }
            },
            "type": "scatterpolargl"
           }
          ],
          "scatterternary": [
           {
            "marker": {
             "colorbar": {
              "outlinewidth": 0,
              "ticks": ""
             }
            },
            "type": "scatterternary"
           }
          ],
          "surface": [
           {
            "colorbar": {
             "outlinewidth": 0,
             "ticks": ""
            },
            "colorscale": [
             [
              0,
              "#0d0887"
             ],
             [
              0.1111111111111111,
              "#46039f"
             ],
             [
              0.2222222222222222,
              "#7201a8"
             ],
             [
              0.3333333333333333,
              "#9c179e"
             ],
             [
              0.4444444444444444,
              "#bd3786"
             ],
             [
              0.5555555555555556,
              "#d8576b"
             ],
             [
              0.6666666666666666,
              "#ed7953"
             ],
             [
              0.7777777777777778,
              "#fb9f3a"
             ],
             [
              0.8888888888888888,
              "#fdca26"
             ],
             [
              1,
              "#f0f921"
             ]
            ],
            "type": "surface"
           }
          ],
          "table": [
           {
            "cells": {
             "fill": {
              "color": "#EBF0F8"
             },
             "line": {
              "color": "white"
             }
            },
            "header": {
             "fill": {
              "color": "#C8D4E3"
             },
             "line": {
              "color": "white"
             }
            },
            "type": "table"
           }
          ]
         },
         "layout": {
          "annotationdefaults": {
           "arrowcolor": "#2a3f5f",
           "arrowhead": 0,
           "arrowwidth": 1
          },
          "autotypenumbers": "strict",
          "coloraxis": {
           "colorbar": {
            "outlinewidth": 0,
            "ticks": ""
           }
          },
          "colorscale": {
           "diverging": [
            [
             0,
             "#8e0152"
            ],
            [
             0.1,
             "#c51b7d"
            ],
            [
             0.2,
             "#de77ae"
            ],
            [
             0.3,
             "#f1b6da"
            ],
            [
             0.4,
             "#fde0ef"
            ],
            [
             0.5,
             "#f7f7f7"
            ],
            [
             0.6,
             "#e6f5d0"
            ],
            [
             0.7,
             "#b8e186"
            ],
            [
             0.8,
             "#7fbc41"
            ],
            [
             0.9,
             "#4d9221"
            ],
            [
             1,
             "#276419"
            ]
           ],
           "sequential": [
            [
             0,
             "#0d0887"
            ],
            [
             0.1111111111111111,
             "#46039f"
            ],
            [
             0.2222222222222222,
             "#7201a8"
            ],
            [
             0.3333333333333333,
             "#9c179e"
            ],
            [
             0.4444444444444444,
             "#bd3786"
            ],
            [
             0.5555555555555556,
             "#d8576b"
            ],
            [
             0.6666666666666666,
             "#ed7953"
            ],
            [
             0.7777777777777778,
             "#fb9f3a"
            ],
            [
             0.8888888888888888,
             "#fdca26"
            ],
            [
             1,
             "#f0f921"
            ]
           ],
           "sequentialminus": [
            [
             0,
             "#0d0887"
            ],
            [
             0.1111111111111111,
             "#46039f"
            ],
            [
             0.2222222222222222,
             "#7201a8"
            ],
            [
             0.3333333333333333,
             "#9c179e"
            ],
            [
             0.4444444444444444,
             "#bd3786"
            ],
            [
             0.5555555555555556,
             "#d8576b"
            ],
            [
             0.6666666666666666,
             "#ed7953"
            ],
            [
             0.7777777777777778,
             "#fb9f3a"
            ],
            [
             0.8888888888888888,
             "#fdca26"
            ],
            [
             1,
             "#f0f921"
            ]
           ]
          },
          "colorway": [
           "#636efa",
           "#EF553B",
           "#00cc96",
           "#ab63fa",
           "#FFA15A",
           "#19d3f3",
           "#FF6692",
           "#B6E880",
           "#FF97FF",
           "#FECB52"
          ],
          "font": {
           "color": "#2a3f5f"
          },
          "geo": {
           "bgcolor": "white",
           "lakecolor": "white",
           "landcolor": "#E5ECF6",
           "showlakes": true,
           "showland": true,
           "subunitcolor": "white"
          },
          "hoverlabel": {
           "align": "left"
          },
          "hovermode": "closest",
          "mapbox": {
           "style": "light"
          },
          "paper_bgcolor": "white",
          "plot_bgcolor": "#E5ECF6",
          "polar": {
           "angularaxis": {
            "gridcolor": "white",
            "linecolor": "white",
            "ticks": ""
           },
           "bgcolor": "#E5ECF6",
           "radialaxis": {
            "gridcolor": "white",
            "linecolor": "white",
            "ticks": ""
           }
          },
          "scene": {
           "xaxis": {
            "backgroundcolor": "#E5ECF6",
            "gridcolor": "white",
            "gridwidth": 2,
            "linecolor": "white",
            "showbackground": true,
            "ticks": "",
            "zerolinecolor": "white"
           },
           "yaxis": {
            "backgroundcolor": "#E5ECF6",
            "gridcolor": "white",
            "gridwidth": 2,
            "linecolor": "white",
            "showbackground": true,
            "ticks": "",
            "zerolinecolor": "white"
           },
           "zaxis": {
            "backgroundcolor": "#E5ECF6",
            "gridcolor": "white",
            "gridwidth": 2,
            "linecolor": "white",
            "showbackground": true,
            "ticks": "",
            "zerolinecolor": "white"
           }
          },
          "shapedefaults": {
           "line": {
            "color": "#2a3f5f"
           }
          },
          "ternary": {
           "aaxis": {
            "gridcolor": "white",
            "linecolor": "white",
            "ticks": ""
           },
           "baxis": {
            "gridcolor": "white",
            "linecolor": "white",
            "ticks": ""
           },
           "bgcolor": "#E5ECF6",
           "caxis": {
            "gridcolor": "white",
            "linecolor": "white",
            "ticks": ""
           }
          },
          "title": {
           "x": 0.05
          },
          "xaxis": {
           "automargin": true,
           "gridcolor": "white",
           "linecolor": "white",
           "ticks": "",
           "title": {
            "standoff": 15
           },
           "zerolinecolor": "white",
           "zerolinewidth": 2
          },
          "yaxis": {
           "automargin": true,
           "gridcolor": "white",
           "linecolor": "white",
           "ticks": "",
           "title": {
            "standoff": 15
           },
           "zerolinecolor": "white",
           "zerolinewidth": 2
          }
         }
        },
        "title": {
         "text": "Right hip data"
        },
        "xaxis": {
         "anchor": "y",
         "domain": [
          0,
          1
         ],
         "title": {
          "text": "index"
         }
        },
        "yaxis": {
         "anchor": "x",
         "domain": [
          0,
          1
         ],
         "title": {
          "text": "coordinate"
         }
        }
       }
      }
     },
     "metadata": {},
     "output_type": "display_data"
    }
   ],
   "source": [
    "import plotly.subplots as sp\n",
    "import plotly.graph_objects as go\n",
    "import plotly.express as px\n",
    "\n",
    "fig = px.line(df, x=df.index, y=['x24', 'y24', 'z24'], labels={'value': 'coordinate'}, title='Right hip data')\n",
    "\n",
    "# Show the plot\n",
    "fig.show()"
   ]
  },
  {
   "cell_type": "code",
   "execution_count": 53,
   "metadata": {},
   "outputs": [],
   "source": [
    "import numpy as np\n",
    "def calculate_angle(a,b,c):\n",
    "    a = np.array(a) # First\n",
    "    b = np.array(b) # Mid\n",
    "    c = np.array(c) # End\n",
    "    \n",
    "    radians = np.arctan2(c[1]-b[1], c[0]-b[0]) - np.arctan2(a[1]-b[1], a[0]-b[0])\n",
    "    angle = np.abs(radians*180.0/np.pi)\n",
    "    \n",
    "    if angle >180.0:\n",
    "        angle = 360-angle\n",
    "        \n",
    "    return angle \n",
    "\n",
    "\n",
    "def calculate_angle_for_right_knee(right_hip_x, right_hip_y, right_knee_x, right_knee_y, right_ankle_x, right_ankle_y):\n",
    "    hip = [right_hip_x, right_hip_y]\n",
    "    knee = [right_knee_x, right_knee_y]\n",
    "    ankle = [right_ankle_x, right_ankle_y]\n",
    "\n",
    "    angle = calculate_angle(hip, knee, ankle)\n",
    "\n",
    "    return angle"
   ]
  },
  {
   "cell_type": "code",
   "execution_count": 54,
   "metadata": {},
   "outputs": [],
   "source": [
    "df[\"right_knee_angle\"] = df.apply(lambda row: calculate_angle_for_right_knee(row['x24'], row['y24'], row['x26'], row['y26'], row['x28'], row['y28']), axis=1)"
   ]
  },
  {
   "cell_type": "code",
   "execution_count": 55,
   "metadata": {},
   "outputs": [
    {
     "data": {
      "text/html": [
       "<div>\n",
       "<style scoped>\n",
       "    .dataframe tbody tr th:only-of-type {\n",
       "        vertical-align: middle;\n",
       "    }\n",
       "\n",
       "    .dataframe tbody tr th {\n",
       "        vertical-align: top;\n",
       "    }\n",
       "\n",
       "    .dataframe thead th {\n",
       "        text-align: right;\n",
       "    }\n",
       "</style>\n",
       "<table border=\"1\" class=\"dataframe\">\n",
       "  <thead>\n",
       "    <tr style=\"text-align: right;\">\n",
       "      <th></th>\n",
       "      <th>x1</th>\n",
       "      <th>y1</th>\n",
       "      <th>z1</th>\n",
       "      <th>v1</th>\n",
       "      <th>x2</th>\n",
       "      <th>y2</th>\n",
       "      <th>z2</th>\n",
       "      <th>v2</th>\n",
       "      <th>x3</th>\n",
       "      <th>y3</th>\n",
       "      <th>...</th>\n",
       "      <th>x32</th>\n",
       "      <th>y32</th>\n",
       "      <th>z32</th>\n",
       "      <th>v32</th>\n",
       "      <th>x33</th>\n",
       "      <th>y33</th>\n",
       "      <th>z33</th>\n",
       "      <th>v33</th>\n",
       "      <th>class</th>\n",
       "      <th>right_knee_angle</th>\n",
       "    </tr>\n",
       "  </thead>\n",
       "  <tbody>\n",
       "    <tr>\n",
       "      <th>0</th>\n",
       "      <td>0.158780</td>\n",
       "      <td>-0.673855</td>\n",
       "      <td>-0.186296</td>\n",
       "      <td>0.999996</td>\n",
       "      <td>0.180337</td>\n",
       "      <td>-0.703550</td>\n",
       "      <td>-0.170040</td>\n",
       "      <td>0.999988</td>\n",
       "      <td>0.179809</td>\n",
       "      <td>-0.703629</td>\n",
       "      <td>...</td>\n",
       "      <td>0.054045</td>\n",
       "      <td>0.833149</td>\n",
       "      <td>0.087747</td>\n",
       "      <td>0.987446</td>\n",
       "      <td>-0.261594</td>\n",
       "      <td>0.825552</td>\n",
       "      <td>0.102739</td>\n",
       "      <td>0.987012</td>\n",
       "      <td>NaN</td>\n",
       "      <td>178.182584</td>\n",
       "    </tr>\n",
       "    <tr>\n",
       "      <th>1</th>\n",
       "      <td>0.158124</td>\n",
       "      <td>-0.678320</td>\n",
       "      <td>-0.183805</td>\n",
       "      <td>0.999996</td>\n",
       "      <td>0.178972</td>\n",
       "      <td>-0.708250</td>\n",
       "      <td>-0.167016</td>\n",
       "      <td>0.999988</td>\n",
       "      <td>0.178455</td>\n",
       "      <td>-0.708327</td>\n",
       "      <td>...</td>\n",
       "      <td>0.075006</td>\n",
       "      <td>0.831442</td>\n",
       "      <td>0.093544</td>\n",
       "      <td>0.986248</td>\n",
       "      <td>-0.264204</td>\n",
       "      <td>0.821462</td>\n",
       "      <td>0.081046</td>\n",
       "      <td>0.986238</td>\n",
       "      <td>NaN</td>\n",
       "      <td>179.320536</td>\n",
       "    </tr>\n",
       "    <tr>\n",
       "      <th>2</th>\n",
       "      <td>0.157839</td>\n",
       "      <td>-0.679194</td>\n",
       "      <td>-0.183637</td>\n",
       "      <td>0.999996</td>\n",
       "      <td>0.178438</td>\n",
       "      <td>-0.709184</td>\n",
       "      <td>-0.166715</td>\n",
       "      <td>0.999988</td>\n",
       "      <td>0.177924</td>\n",
       "      <td>-0.709261</td>\n",
       "      <td>...</td>\n",
       "      <td>0.079745</td>\n",
       "      <td>0.831420</td>\n",
       "      <td>0.093722</td>\n",
       "      <td>0.985029</td>\n",
       "      <td>-0.264317</td>\n",
       "      <td>0.821420</td>\n",
       "      <td>0.070442</td>\n",
       "      <td>0.985416</td>\n",
       "      <td>NaN</td>\n",
       "      <td>179.630619</td>\n",
       "    </tr>\n",
       "    <tr>\n",
       "      <th>3</th>\n",
       "      <td>0.153888</td>\n",
       "      <td>-0.678638</td>\n",
       "      <td>-0.180764</td>\n",
       "      <td>0.999996</td>\n",
       "      <td>0.174234</td>\n",
       "      <td>-0.708881</td>\n",
       "      <td>-0.163797</td>\n",
       "      <td>0.999988</td>\n",
       "      <td>0.173717</td>\n",
       "      <td>-0.708960</td>\n",
       "      <td>...</td>\n",
       "      <td>0.077643</td>\n",
       "      <td>0.831374</td>\n",
       "      <td>0.093076</td>\n",
       "      <td>0.984004</td>\n",
       "      <td>-0.264340</td>\n",
       "      <td>0.821542</td>\n",
       "      <td>0.060991</td>\n",
       "      <td>0.984938</td>\n",
       "      <td>NaN</td>\n",
       "      <td>179.546942</td>\n",
       "    </tr>\n",
       "    <tr>\n",
       "      <th>4</th>\n",
       "      <td>0.143902</td>\n",
       "      <td>-0.677411</td>\n",
       "      <td>-0.185008</td>\n",
       "      <td>0.999996</td>\n",
       "      <td>0.163196</td>\n",
       "      <td>-0.708295</td>\n",
       "      <td>-0.168243</td>\n",
       "      <td>0.999988</td>\n",
       "      <td>0.162679</td>\n",
       "      <td>-0.708372</td>\n",
       "      <td>...</td>\n",
       "      <td>0.064358</td>\n",
       "      <td>0.830630</td>\n",
       "      <td>0.097887</td>\n",
       "      <td>0.983193</td>\n",
       "      <td>-0.267096</td>\n",
       "      <td>0.821610</td>\n",
       "      <td>0.064262</td>\n",
       "      <td>0.984547</td>\n",
       "      <td>NaN</td>\n",
       "      <td>178.338764</td>\n",
       "    </tr>\n",
       "  </tbody>\n",
       "</table>\n",
       "<p>5 rows × 134 columns</p>\n",
       "</div>"
      ],
      "text/plain": [
       "         x1        y1        z1        v1        x2        y2        z2  \\\n",
       "0  0.158780 -0.673855 -0.186296  0.999996  0.180337 -0.703550 -0.170040   \n",
       "1  0.158124 -0.678320 -0.183805  0.999996  0.178972 -0.708250 -0.167016   \n",
       "2  0.157839 -0.679194 -0.183637  0.999996  0.178438 -0.709184 -0.166715   \n",
       "3  0.153888 -0.678638 -0.180764  0.999996  0.174234 -0.708881 -0.163797   \n",
       "4  0.143902 -0.677411 -0.185008  0.999996  0.163196 -0.708295 -0.168243   \n",
       "\n",
       "         v2        x3        y3  ...       x32       y32       z32       v32  \\\n",
       "0  0.999988  0.179809 -0.703629  ...  0.054045  0.833149  0.087747  0.987446   \n",
       "1  0.999988  0.178455 -0.708327  ...  0.075006  0.831442  0.093544  0.986248   \n",
       "2  0.999988  0.177924 -0.709261  ...  0.079745  0.831420  0.093722  0.985029   \n",
       "3  0.999988  0.173717 -0.708960  ...  0.077643  0.831374  0.093076  0.984004   \n",
       "4  0.999988  0.162679 -0.708372  ...  0.064358  0.830630  0.097887  0.983193   \n",
       "\n",
       "        x33       y33       z33       v33  class  right_knee_angle  \n",
       "0 -0.261594  0.825552  0.102739  0.987012    NaN        178.182584  \n",
       "1 -0.264204  0.821462  0.081046  0.986238    NaN        179.320536  \n",
       "2 -0.264317  0.821420  0.070442  0.985416    NaN        179.630619  \n",
       "3 -0.264340  0.821542  0.060991  0.984938    NaN        179.546942  \n",
       "4 -0.267096  0.821610  0.064262  0.984547    NaN        178.338764  \n",
       "\n",
       "[5 rows x 134 columns]"
      ]
     },
     "execution_count": 55,
     "metadata": {},
     "output_type": "execute_result"
    }
   ],
   "source": [
    "df.head()\n"
   ]
  },
  {
   "cell_type": "code",
   "execution_count": 56,
   "metadata": {},
   "outputs": [
    {
     "data": {
      "application/vnd.plotly.v1+json": {
       "config": {
        "plotlyServerURL": "https://plot.ly"
       },
       "data": [
        {
         "hovertemplate": "variable=right_knee_angle<br>index=%{x}<br>angle=%{y}<extra></extra>",
         "legendgroup": "right_knee_angle",
         "line": {
          "color": "#636efa",
          "dash": "solid"
         },
         "marker": {
          "symbol": "circle"
         },
         "mode": "lines",
         "name": "right_knee_angle",
         "orientation": "v",
         "showlegend": true,
         "type": "scatter",
         "x": [
          0,
          1,
          2,
          3,
          4,
          5,
          6,
          7,
          8,
          9,
          10,
          11,
          12,
          13,
          14,
          15,
          16,
          17,
          18,
          19,
          20,
          21,
          22,
          23,
          24,
          25,
          26,
          27,
          28,
          29,
          30,
          31,
          32,
          33,
          34,
          35,
          36,
          37,
          38,
          39,
          40,
          41,
          42,
          43,
          44,
          45,
          46,
          47,
          48,
          49,
          50,
          51,
          52,
          53,
          54,
          55,
          56,
          57,
          58,
          59,
          60,
          61,
          62
         ],
         "xaxis": "x",
         "y": [
          178.18258374510737,
          179.32053636062184,
          179.63061936838187,
          179.54694202370084,
          178.3387638483711,
          177.3648021570009,
          177.32301228837053,
          177.0713896616448,
          177.75897529630942,
          176.3338795374078,
          175.09017579206326,
          172.17038662106694,
          166.4599943549589,
          153.49381856718526,
          144.5711413530683,
          128.63270971013847,
          107.12712135519183,
          94.2904855925492,
          89.54243697500749,
          87.03110423295925,
          81.06674863862793,
          83.90537131721118,
          83.8636334902198,
          85.70882328050487,
          85.83841905839006,
          84.82766487140134,
          87.4975996687781,
          89.26481993370652,
          89.90065898361871,
          89.22130393409839,
          105.89726792390792,
          115.8189701227941,
          126.38802882330103,
          136.91244392855828,
          145.33721636500638,
          150.6315014530997,
          155.6768454524013,
          161.69101239700885,
          164.0993419481264,
          168.9629708480098,
          171.8124811578107,
          174.37227727442257,
          176.18842809118678,
          177.1002475711023,
          178.5870004344646,
          179.93410755031218,
          179.76287088746432,
          179.3289729019974,
          178.8319707785891,
          179.06309901886698,
          179.53138077124362,
          178.05455882353445,
          177.612153466933,
          177.8886103925221,
          177.4305305274289,
          177.35499620548632,
          177.3992047539427,
          176.5891618242512,
          176.08863211989308,
          175.60710807267893,
          175.00924140872664,
          175.0799905912693,
          174.81792573851467
         ],
         "yaxis": "y"
        }
       ],
       "layout": {
        "legend": {
         "title": {
          "text": "variable"
         },
         "tracegroupgap": 0
        },
        "template": {
         "data": {
          "bar": [
           {
            "error_x": {
             "color": "#2a3f5f"
            },
            "error_y": {
             "color": "#2a3f5f"
            },
            "marker": {
             "line": {
              "color": "#E5ECF6",
              "width": 0.5
             },
             "pattern": {
              "fillmode": "overlay",
              "size": 10,
              "solidity": 0.2
             }
            },
            "type": "bar"
           }
          ],
          "barpolar": [
           {
            "marker": {
             "line": {
              "color": "#E5ECF6",
              "width": 0.5
             },
             "pattern": {
              "fillmode": "overlay",
              "size": 10,
              "solidity": 0.2
             }
            },
            "type": "barpolar"
           }
          ],
          "carpet": [
           {
            "aaxis": {
             "endlinecolor": "#2a3f5f",
             "gridcolor": "white",
             "linecolor": "white",
             "minorgridcolor": "white",
             "startlinecolor": "#2a3f5f"
            },
            "baxis": {
             "endlinecolor": "#2a3f5f",
             "gridcolor": "white",
             "linecolor": "white",
             "minorgridcolor": "white",
             "startlinecolor": "#2a3f5f"
            },
            "type": "carpet"
           }
          ],
          "choropleth": [
           {
            "colorbar": {
             "outlinewidth": 0,
             "ticks": ""
            },
            "type": "choropleth"
           }
          ],
          "contour": [
           {
            "colorbar": {
             "outlinewidth": 0,
             "ticks": ""
            },
            "colorscale": [
             [
              0,
              "#0d0887"
             ],
             [
              0.1111111111111111,
              "#46039f"
             ],
             [
              0.2222222222222222,
              "#7201a8"
             ],
             [
              0.3333333333333333,
              "#9c179e"
             ],
             [
              0.4444444444444444,
              "#bd3786"
             ],
             [
              0.5555555555555556,
              "#d8576b"
             ],
             [
              0.6666666666666666,
              "#ed7953"
             ],
             [
              0.7777777777777778,
              "#fb9f3a"
             ],
             [
              0.8888888888888888,
              "#fdca26"
             ],
             [
              1,
              "#f0f921"
             ]
            ],
            "type": "contour"
           }
          ],
          "contourcarpet": [
           {
            "colorbar": {
             "outlinewidth": 0,
             "ticks": ""
            },
            "type": "contourcarpet"
           }
          ],
          "heatmap": [
           {
            "colorbar": {
             "outlinewidth": 0,
             "ticks": ""
            },
            "colorscale": [
             [
              0,
              "#0d0887"
             ],
             [
              0.1111111111111111,
              "#46039f"
             ],
             [
              0.2222222222222222,
              "#7201a8"
             ],
             [
              0.3333333333333333,
              "#9c179e"
             ],
             [
              0.4444444444444444,
              "#bd3786"
             ],
             [
              0.5555555555555556,
              "#d8576b"
             ],
             [
              0.6666666666666666,
              "#ed7953"
             ],
             [
              0.7777777777777778,
              "#fb9f3a"
             ],
             [
              0.8888888888888888,
              "#fdca26"
             ],
             [
              1,
              "#f0f921"
             ]
            ],
            "type": "heatmap"
           }
          ],
          "heatmapgl": [
           {
            "colorbar": {
             "outlinewidth": 0,
             "ticks": ""
            },
            "colorscale": [
             [
              0,
              "#0d0887"
             ],
             [
              0.1111111111111111,
              "#46039f"
             ],
             [
              0.2222222222222222,
              "#7201a8"
             ],
             [
              0.3333333333333333,
              "#9c179e"
             ],
             [
              0.4444444444444444,
              "#bd3786"
             ],
             [
              0.5555555555555556,
              "#d8576b"
             ],
             [
              0.6666666666666666,
              "#ed7953"
             ],
             [
              0.7777777777777778,
              "#fb9f3a"
             ],
             [
              0.8888888888888888,
              "#fdca26"
             ],
             [
              1,
              "#f0f921"
             ]
            ],
            "type": "heatmapgl"
           }
          ],
          "histogram": [
           {
            "marker": {
             "pattern": {
              "fillmode": "overlay",
              "size": 10,
              "solidity": 0.2
             }
            },
            "type": "histogram"
           }
          ],
          "histogram2d": [
           {
            "colorbar": {
             "outlinewidth": 0,
             "ticks": ""
            },
            "colorscale": [
             [
              0,
              "#0d0887"
             ],
             [
              0.1111111111111111,
              "#46039f"
             ],
             [
              0.2222222222222222,
              "#7201a8"
             ],
             [
              0.3333333333333333,
              "#9c179e"
             ],
             [
              0.4444444444444444,
              "#bd3786"
             ],
             [
              0.5555555555555556,
              "#d8576b"
             ],
             [
              0.6666666666666666,
              "#ed7953"
             ],
             [
              0.7777777777777778,
              "#fb9f3a"
             ],
             [
              0.8888888888888888,
              "#fdca26"
             ],
             [
              1,
              "#f0f921"
             ]
            ],
            "type": "histogram2d"
           }
          ],
          "histogram2dcontour": [
           {
            "colorbar": {
             "outlinewidth": 0,
             "ticks": ""
            },
            "colorscale": [
             [
              0,
              "#0d0887"
             ],
             [
              0.1111111111111111,
              "#46039f"
             ],
             [
              0.2222222222222222,
              "#7201a8"
             ],
             [
              0.3333333333333333,
              "#9c179e"
             ],
             [
              0.4444444444444444,
              "#bd3786"
             ],
             [
              0.5555555555555556,
              "#d8576b"
             ],
             [
              0.6666666666666666,
              "#ed7953"
             ],
             [
              0.7777777777777778,
              "#fb9f3a"
             ],
             [
              0.8888888888888888,
              "#fdca26"
             ],
             [
              1,
              "#f0f921"
             ]
            ],
            "type": "histogram2dcontour"
           }
          ],
          "mesh3d": [
           {
            "colorbar": {
             "outlinewidth": 0,
             "ticks": ""
            },
            "type": "mesh3d"
           }
          ],
          "parcoords": [
           {
            "line": {
             "colorbar": {
              "outlinewidth": 0,
              "ticks": ""
             }
            },
            "type": "parcoords"
           }
          ],
          "pie": [
           {
            "automargin": true,
            "type": "pie"
           }
          ],
          "scatter": [
           {
            "fillpattern": {
             "fillmode": "overlay",
             "size": 10,
             "solidity": 0.2
            },
            "type": "scatter"
           }
          ],
          "scatter3d": [
           {
            "line": {
             "colorbar": {
              "outlinewidth": 0,
              "ticks": ""
             }
            },
            "marker": {
             "colorbar": {
              "outlinewidth": 0,
              "ticks": ""
             }
            },
            "type": "scatter3d"
           }
          ],
          "scattercarpet": [
           {
            "marker": {
             "colorbar": {
              "outlinewidth": 0,
              "ticks": ""
             }
            },
            "type": "scattercarpet"
           }
          ],
          "scattergeo": [
           {
            "marker": {
             "colorbar": {
              "outlinewidth": 0,
              "ticks": ""
             }
            },
            "type": "scattergeo"
           }
          ],
          "scattergl": [
           {
            "marker": {
             "colorbar": {
              "outlinewidth": 0,
              "ticks": ""
             }
            },
            "type": "scattergl"
           }
          ],
          "scattermapbox": [
           {
            "marker": {
             "colorbar": {
              "outlinewidth": 0,
              "ticks": ""
             }
            },
            "type": "scattermapbox"
           }
          ],
          "scatterpolar": [
           {
            "marker": {
             "colorbar": {
              "outlinewidth": 0,
              "ticks": ""
             }
            },
            "type": "scatterpolar"
           }
          ],
          "scatterpolargl": [
           {
            "marker": {
             "colorbar": {
              "outlinewidth": 0,
              "ticks": ""
             }
            },
            "type": "scatterpolargl"
           }
          ],
          "scatterternary": [
           {
            "marker": {
             "colorbar": {
              "outlinewidth": 0,
              "ticks": ""
             }
            },
            "type": "scatterternary"
           }
          ],
          "surface": [
           {
            "colorbar": {
             "outlinewidth": 0,
             "ticks": ""
            },
            "colorscale": [
             [
              0,
              "#0d0887"
             ],
             [
              0.1111111111111111,
              "#46039f"
             ],
             [
              0.2222222222222222,
              "#7201a8"
             ],
             [
              0.3333333333333333,
              "#9c179e"
             ],
             [
              0.4444444444444444,
              "#bd3786"
             ],
             [
              0.5555555555555556,
              "#d8576b"
             ],
             [
              0.6666666666666666,
              "#ed7953"
             ],
             [
              0.7777777777777778,
              "#fb9f3a"
             ],
             [
              0.8888888888888888,
              "#fdca26"
             ],
             [
              1,
              "#f0f921"
             ]
            ],
            "type": "surface"
           }
          ],
          "table": [
           {
            "cells": {
             "fill": {
              "color": "#EBF0F8"
             },
             "line": {
              "color": "white"
             }
            },
            "header": {
             "fill": {
              "color": "#C8D4E3"
             },
             "line": {
              "color": "white"
             }
            },
            "type": "table"
           }
          ]
         },
         "layout": {
          "annotationdefaults": {
           "arrowcolor": "#2a3f5f",
           "arrowhead": 0,
           "arrowwidth": 1
          },
          "autotypenumbers": "strict",
          "coloraxis": {
           "colorbar": {
            "outlinewidth": 0,
            "ticks": ""
           }
          },
          "colorscale": {
           "diverging": [
            [
             0,
             "#8e0152"
            ],
            [
             0.1,
             "#c51b7d"
            ],
            [
             0.2,
             "#de77ae"
            ],
            [
             0.3,
             "#f1b6da"
            ],
            [
             0.4,
             "#fde0ef"
            ],
            [
             0.5,
             "#f7f7f7"
            ],
            [
             0.6,
             "#e6f5d0"
            ],
            [
             0.7,
             "#b8e186"
            ],
            [
             0.8,
             "#7fbc41"
            ],
            [
             0.9,
             "#4d9221"
            ],
            [
             1,
             "#276419"
            ]
           ],
           "sequential": [
            [
             0,
             "#0d0887"
            ],
            [
             0.1111111111111111,
             "#46039f"
            ],
            [
             0.2222222222222222,
             "#7201a8"
            ],
            [
             0.3333333333333333,
             "#9c179e"
            ],
            [
             0.4444444444444444,
             "#bd3786"
            ],
            [
             0.5555555555555556,
             "#d8576b"
            ],
            [
             0.6666666666666666,
             "#ed7953"
            ],
            [
             0.7777777777777778,
             "#fb9f3a"
            ],
            [
             0.8888888888888888,
             "#fdca26"
            ],
            [
             1,
             "#f0f921"
            ]
           ],
           "sequentialminus": [
            [
             0,
             "#0d0887"
            ],
            [
             0.1111111111111111,
             "#46039f"
            ],
            [
             0.2222222222222222,
             "#7201a8"
            ],
            [
             0.3333333333333333,
             "#9c179e"
            ],
            [
             0.4444444444444444,
             "#bd3786"
            ],
            [
             0.5555555555555556,
             "#d8576b"
            ],
            [
             0.6666666666666666,
             "#ed7953"
            ],
            [
             0.7777777777777778,
             "#fb9f3a"
            ],
            [
             0.8888888888888888,
             "#fdca26"
            ],
            [
             1,
             "#f0f921"
            ]
           ]
          },
          "colorway": [
           "#636efa",
           "#EF553B",
           "#00cc96",
           "#ab63fa",
           "#FFA15A",
           "#19d3f3",
           "#FF6692",
           "#B6E880",
           "#FF97FF",
           "#FECB52"
          ],
          "font": {
           "color": "#2a3f5f"
          },
          "geo": {
           "bgcolor": "white",
           "lakecolor": "white",
           "landcolor": "#E5ECF6",
           "showlakes": true,
           "showland": true,
           "subunitcolor": "white"
          },
          "hoverlabel": {
           "align": "left"
          },
          "hovermode": "closest",
          "mapbox": {
           "style": "light"
          },
          "paper_bgcolor": "white",
          "plot_bgcolor": "#E5ECF6",
          "polar": {
           "angularaxis": {
            "gridcolor": "white",
            "linecolor": "white",
            "ticks": ""
           },
           "bgcolor": "#E5ECF6",
           "radialaxis": {
            "gridcolor": "white",
            "linecolor": "white",
            "ticks": ""
           }
          },
          "scene": {
           "xaxis": {
            "backgroundcolor": "#E5ECF6",
            "gridcolor": "white",
            "gridwidth": 2,
            "linecolor": "white",
            "showbackground": true,
            "ticks": "",
            "zerolinecolor": "white"
           },
           "yaxis": {
            "backgroundcolor": "#E5ECF6",
            "gridcolor": "white",
            "gridwidth": 2,
            "linecolor": "white",
            "showbackground": true,
            "ticks": "",
            "zerolinecolor": "white"
           },
           "zaxis": {
            "backgroundcolor": "#E5ECF6",
            "gridcolor": "white",
            "gridwidth": 2,
            "linecolor": "white",
            "showbackground": true,
            "ticks": "",
            "zerolinecolor": "white"
           }
          },
          "shapedefaults": {
           "line": {
            "color": "#2a3f5f"
           }
          },
          "ternary": {
           "aaxis": {
            "gridcolor": "white",
            "linecolor": "white",
            "ticks": ""
           },
           "baxis": {
            "gridcolor": "white",
            "linecolor": "white",
            "ticks": ""
           },
           "bgcolor": "#E5ECF6",
           "caxis": {
            "gridcolor": "white",
            "linecolor": "white",
            "ticks": ""
           }
          },
          "title": {
           "x": 0.05
          },
          "xaxis": {
           "automargin": true,
           "gridcolor": "white",
           "linecolor": "white",
           "ticks": "",
           "title": {
            "standoff": 15
           },
           "zerolinecolor": "white",
           "zerolinewidth": 2
          },
          "yaxis": {
           "automargin": true,
           "gridcolor": "white",
           "linecolor": "white",
           "ticks": "",
           "title": {
            "standoff": 15
           },
           "zerolinecolor": "white",
           "zerolinewidth": 2
          }
         }
        },
        "title": {
         "text": "Right knee angle"
        },
        "xaxis": {
         "anchor": "y",
         "domain": [
          0,
          1
         ],
         "title": {
          "text": "index"
         }
        },
        "yaxis": {
         "anchor": "x",
         "domain": [
          0,
          1
         ],
         "title": {
          "text": "angle"
         }
        }
       }
      }
     },
     "metadata": {},
     "output_type": "display_data"
    }
   ],
   "source": [
    "import plotly.subplots as sp\n",
    "import plotly.graph_objects as go\n",
    "import plotly.express as px\n",
    "\n",
    "fig = px.line(df, x=df.index, y=['right_knee_angle'], labels={'value': 'angle'}, title='Right knee angle')\n",
    "\n",
    "# Show the plot\n",
    "fig.show()"
   ]
  },
  {
   "cell_type": "code",
   "execution_count": 57,
   "metadata": {},
   "outputs": [],
   "source": [
    "# repeat for the left knee\n",
    "def calculate_angle_for_left_knee(left_hip_x, left_hip_y, left_knee_x, left_knee_y, left_ankle_x, left_ankle_y):\n",
    "    hip = [left_hip_x, left_hip_y]\n",
    "    knee = [left_knee_x, left_knee_y]\n",
    "    ankle = [left_ankle_x, left_ankle_y]\n",
    "\n",
    "    angle = calculate_angle(hip, knee, ankle)\n",
    "\n",
    "    return angle\n"
   ]
  },
  {
   "cell_type": "code",
   "execution_count": 63,
   "metadata": {},
   "outputs": [
    {
     "data": {
      "application/vnd.plotly.v1+json": {
       "config": {
        "plotlyServerURL": "https://plot.ly"
       },
       "data": [
        {
         "hovertemplate": "variable=right_knee_angle<br>index=%{x}<br>angle=%{y}<extra></extra>",
         "legendgroup": "right_knee_angle",
         "line": {
          "color": "#636efa",
          "dash": "solid"
         },
         "marker": {
          "symbol": "circle"
         },
         "mode": "lines",
         "name": "right_knee_angle",
         "orientation": "v",
         "showlegend": true,
         "type": "scatter",
         "x": [
          0,
          1,
          2,
          3,
          4,
          5,
          6,
          7,
          8,
          9,
          10,
          11,
          12,
          13,
          14,
          15,
          16,
          17,
          18,
          19,
          20,
          21,
          22,
          23,
          24,
          25,
          26,
          27,
          28,
          29,
          30,
          31,
          32,
          33,
          34,
          35,
          36,
          37,
          38,
          39,
          40,
          41,
          42,
          43,
          44,
          45,
          46,
          47,
          48,
          49,
          50,
          51,
          52,
          53,
          54,
          55,
          56,
          57,
          58,
          59,
          60,
          61,
          62
         ],
         "xaxis": "x",
         "y": [
          178.18258374510737,
          179.32053636062184,
          179.63061936838187,
          179.54694202370084,
          178.3387638483711,
          177.3648021570009,
          177.32301228837053,
          177.0713896616448,
          177.75897529630942,
          176.3338795374078,
          175.09017579206326,
          172.17038662106694,
          166.4599943549589,
          153.49381856718526,
          144.5711413530683,
          128.63270971013847,
          107.12712135519183,
          94.2904855925492,
          89.54243697500749,
          87.03110423295925,
          81.06674863862793,
          83.90537131721118,
          83.8636334902198,
          85.70882328050487,
          85.83841905839006,
          84.82766487140134,
          87.4975996687781,
          89.26481993370652,
          89.90065898361871,
          89.22130393409839,
          105.89726792390792,
          115.8189701227941,
          126.38802882330103,
          136.91244392855828,
          145.33721636500638,
          150.6315014530997,
          155.6768454524013,
          161.69101239700885,
          164.0993419481264,
          168.9629708480098,
          171.8124811578107,
          174.37227727442257,
          176.18842809118678,
          177.1002475711023,
          178.5870004344646,
          179.93410755031218,
          179.76287088746432,
          179.3289729019974,
          178.8319707785891,
          179.06309901886698,
          179.53138077124362,
          178.05455882353445,
          177.612153466933,
          177.8886103925221,
          177.4305305274289,
          177.35499620548632,
          177.3992047539427,
          176.5891618242512,
          176.08863211989308,
          175.60710807267893,
          175.00924140872664,
          175.0799905912693,
          174.81792573851467
         ],
         "yaxis": "y"
        },
        {
         "hovertemplate": "variable=left_knee_angle<br>index=%{x}<br>angle=%{y}<extra></extra>",
         "legendgroup": "left_knee_angle",
         "line": {
          "color": "#EF553B",
          "dash": "solid"
         },
         "marker": {
          "symbol": "circle"
         },
         "mode": "lines",
         "name": "left_knee_angle",
         "orientation": "v",
         "showlegend": true,
         "type": "scatter",
         "x": [
          0,
          1,
          2,
          3,
          4,
          5,
          6,
          7,
          8,
          9,
          10,
          11,
          12,
          13,
          14,
          15,
          16,
          17,
          18,
          19,
          20,
          21,
          22,
          23,
          24,
          25,
          26,
          27,
          28,
          29,
          30,
          31,
          32,
          33,
          34,
          35,
          36,
          37,
          38,
          39,
          40,
          41,
          42,
          43,
          44,
          45,
          46,
          47,
          48,
          49,
          50,
          51,
          52,
          53,
          54,
          55,
          56,
          57,
          58,
          59,
          60,
          61,
          62
         ],
         "xaxis": "x",
         "y": [
          166.9631538530692,
          167.0051362084872,
          166.86477110129726,
          165.79157155868535,
          164.69603413748038,
          164.06286505292536,
          161.92410927744683,
          160.61619571267266,
          159.78192365652248,
          159.58056146299944,
          159.22297552889108,
          157.18695378978515,
          154.9262759064721,
          154.4089799749334,
          159.20592117236438,
          163.19737515456006,
          166.28906032078973,
          162.0983199683347,
          156.8988763348289,
          151.91457276567868,
          153.52440982949787,
          156.08835474931414,
          163.17335555204167,
          166.50703703427945,
          168.7593064588177,
          173.08733822320505,
          161.12562536268987,
          156.22325603500224,
          155.17487815406412,
          170.78661361123963,
          171.3099944894115,
          179.22503954128084,
          178.72505316953036,
          176.20019723325467,
          166.66730843618294,
          164.9865983848723,
          166.5558170838252,
          168.94870050140307,
          169.65754434265574,
          169.63713077480065,
          169.62904710622604,
          169.4547094206188,
          169.48667138738674,
          169.7091583475641,
          169.76178508751897,
          169.5801250773716,
          169.60984123308742,
          169.60585877723193,
          169.68908508695512,
          169.87340735937468,
          169.84523833876216,
          170.13901314728375,
          170.2283753196146,
          170.28412599158042,
          170.13015598235822,
          170.03651951777513,
          169.90505773192913,
          169.87944786232313,
          169.8273313213031,
          169.7399513417398,
          169.64527566815315,
          169.57849625597572,
          169.49330966924566
         ],
         "yaxis": "y"
        },
        {
         "hovertemplate": "variable=3d_right_knee_angle<br>index=%{x}<br>angle=%{y}<extra></extra>",
         "legendgroup": "3d_right_knee_angle",
         "line": {
          "color": "#00cc96",
          "dash": "solid"
         },
         "marker": {
          "symbol": "circle"
         },
         "mode": "lines",
         "name": "3d_right_knee_angle",
         "orientation": "v",
         "showlegend": true,
         "type": "scatter",
         "x": [
          0,
          1,
          2,
          3,
          4,
          5,
          6,
          7,
          8,
          9,
          10,
          11,
          12,
          13,
          14,
          15,
          16,
          17,
          18,
          19,
          20,
          21,
          22,
          23,
          24,
          25,
          26,
          27,
          28,
          29,
          30,
          31,
          32,
          33,
          34,
          35,
          36,
          37,
          38,
          39,
          40,
          41,
          42,
          43,
          44,
          45,
          46,
          47,
          48,
          49,
          50,
          51,
          52,
          53,
          54,
          55,
          56,
          57,
          58,
          59,
          60,
          61,
          62
         ],
         "xaxis": "x",
         "y": [
          52.9705,
          53.4581,
          53.6727,
          53.6978,
          53.5731,
          53.0566,
          52.664,
          48.8609,
          46.2746,
          44.6588,
          38.891,
          27.6856,
          14.7713,
          7.3166,
          0.4578,
          9.1537,
          15.1718,
          20.0668,
          21.5435,
          23.0937,
          24.9095,
          24.4242,
          24.0499,
          23.5053,
          23.0407,
          23.3622,
          21.1526,
          20.1361,
          19.5873,
          17.4704,
          14.6793,
          7.9065,
          3.4257,
          0.3954,
          1.5575,
          5.1249,
          21.589,
          36.2144,
          38.5231,
          44.2885,
          49.5099,
          52.6017,
          53.5528,
          53.9189,
          55.2792,
          55.7546,
          55.7582,
          56.0243,
          55.7745,
          55.6522,
          55.671,
          55.665,
          55.7014,
          55.9737,
          56.2151,
          56.4148,
          56.4412,
          56.3494,
          56.0827,
          55.8769,
          55.7944,
          55.7866,
          55.8361
         ],
         "yaxis": "y"
        },
        {
         "hovertemplate": "variable=3d_left_knee_angle<br>index=%{x}<br>angle=%{y}<extra></extra>",
         "legendgroup": "3d_left_knee_angle",
         "line": {
          "color": "#ab63fa",
          "dash": "solid"
         },
         "marker": {
          "symbol": "circle"
         },
         "mode": "lines",
         "name": "3d_left_knee_angle",
         "orientation": "v",
         "showlegend": true,
         "type": "scatter",
         "x": [
          0,
          1,
          2,
          3,
          4,
          5,
          6,
          7,
          8,
          9,
          10,
          11,
          12,
          13,
          14,
          15,
          16,
          17,
          18,
          19,
          20,
          21,
          22,
          23,
          24,
          25,
          26,
          27,
          28,
          29,
          30,
          31,
          32,
          33,
          34,
          35,
          36,
          37,
          38,
          39,
          40,
          41,
          42,
          43,
          44,
          45,
          46,
          47,
          48,
          49,
          50,
          51,
          52,
          53,
          54,
          55,
          56,
          57,
          58,
          59,
          60,
          61,
          62
         ],
         "xaxis": "x",
         "y": [
          49.6644,
          49.2584,
          48.9412,
          48.1979,
          47.7579,
          47.6015,
          45.7351,
          45.1299,
          43.8165,
          40.2645,
          32.4574,
          10.9969,
          9.0646,
          18.7353,
          25.1725,
          26.6308,
          32.6969,
          34.9985,
          37.6308,
          39.3823,
          39.8952,
          40.2441,
          37.415,
          38.9701,
          39.8041,
          38.9957,
          38.8022,
          38.669,
          38.7181,
          38.9285,
          37.5255,
          32.3609,
          31.5384,
          26.4237,
          19.9104,
          7.0245,
          2.2208,
          27.2849,
          35.8035,
          37.9131,
          39.0447,
          37.4802,
          36.9201,
          36.7744,
          34.9925,
          33.2021,
          31.9565,
          32.2702,
          32.5344,
          32.4534,
          32.1427,
          31.4966,
          31.4387,
          31.3536,
          31.1773,
          30.5301,
          29.8056,
          28.8941,
          27.9138,
          26.2281,
          26.0801,
          25.8852,
          25.7593
         ],
         "yaxis": "y"
        }
       ],
       "layout": {
        "legend": {
         "title": {
          "text": "variable"
         },
         "tracegroupgap": 0
        },
        "template": {
         "data": {
          "bar": [
           {
            "error_x": {
             "color": "#2a3f5f"
            },
            "error_y": {
             "color": "#2a3f5f"
            },
            "marker": {
             "line": {
              "color": "#E5ECF6",
              "width": 0.5
             },
             "pattern": {
              "fillmode": "overlay",
              "size": 10,
              "solidity": 0.2
             }
            },
            "type": "bar"
           }
          ],
          "barpolar": [
           {
            "marker": {
             "line": {
              "color": "#E5ECF6",
              "width": 0.5
             },
             "pattern": {
              "fillmode": "overlay",
              "size": 10,
              "solidity": 0.2
             }
            },
            "type": "barpolar"
           }
          ],
          "carpet": [
           {
            "aaxis": {
             "endlinecolor": "#2a3f5f",
             "gridcolor": "white",
             "linecolor": "white",
             "minorgridcolor": "white",
             "startlinecolor": "#2a3f5f"
            },
            "baxis": {
             "endlinecolor": "#2a3f5f",
             "gridcolor": "white",
             "linecolor": "white",
             "minorgridcolor": "white",
             "startlinecolor": "#2a3f5f"
            },
            "type": "carpet"
           }
          ],
          "choropleth": [
           {
            "colorbar": {
             "outlinewidth": 0,
             "ticks": ""
            },
            "type": "choropleth"
           }
          ],
          "contour": [
           {
            "colorbar": {
             "outlinewidth": 0,
             "ticks": ""
            },
            "colorscale": [
             [
              0,
              "#0d0887"
             ],
             [
              0.1111111111111111,
              "#46039f"
             ],
             [
              0.2222222222222222,
              "#7201a8"
             ],
             [
              0.3333333333333333,
              "#9c179e"
             ],
             [
              0.4444444444444444,
              "#bd3786"
             ],
             [
              0.5555555555555556,
              "#d8576b"
             ],
             [
              0.6666666666666666,
              "#ed7953"
             ],
             [
              0.7777777777777778,
              "#fb9f3a"
             ],
             [
              0.8888888888888888,
              "#fdca26"
             ],
             [
              1,
              "#f0f921"
             ]
            ],
            "type": "contour"
           }
          ],
          "contourcarpet": [
           {
            "colorbar": {
             "outlinewidth": 0,
             "ticks": ""
            },
            "type": "contourcarpet"
           }
          ],
          "heatmap": [
           {
            "colorbar": {
             "outlinewidth": 0,
             "ticks": ""
            },
            "colorscale": [
             [
              0,
              "#0d0887"
             ],
             [
              0.1111111111111111,
              "#46039f"
             ],
             [
              0.2222222222222222,
              "#7201a8"
             ],
             [
              0.3333333333333333,
              "#9c179e"
             ],
             [
              0.4444444444444444,
              "#bd3786"
             ],
             [
              0.5555555555555556,
              "#d8576b"
             ],
             [
              0.6666666666666666,
              "#ed7953"
             ],
             [
              0.7777777777777778,
              "#fb9f3a"
             ],
             [
              0.8888888888888888,
              "#fdca26"
             ],
             [
              1,
              "#f0f921"
             ]
            ],
            "type": "heatmap"
           }
          ],
          "heatmapgl": [
           {
            "colorbar": {
             "outlinewidth": 0,
             "ticks": ""
            },
            "colorscale": [
             [
              0,
              "#0d0887"
             ],
             [
              0.1111111111111111,
              "#46039f"
             ],
             [
              0.2222222222222222,
              "#7201a8"
             ],
             [
              0.3333333333333333,
              "#9c179e"
             ],
             [
              0.4444444444444444,
              "#bd3786"
             ],
             [
              0.5555555555555556,
              "#d8576b"
             ],
             [
              0.6666666666666666,
              "#ed7953"
             ],
             [
              0.7777777777777778,
              "#fb9f3a"
             ],
             [
              0.8888888888888888,
              "#fdca26"
             ],
             [
              1,
              "#f0f921"
             ]
            ],
            "type": "heatmapgl"
           }
          ],
          "histogram": [
           {
            "marker": {
             "pattern": {
              "fillmode": "overlay",
              "size": 10,
              "solidity": 0.2
             }
            },
            "type": "histogram"
           }
          ],
          "histogram2d": [
           {
            "colorbar": {
             "outlinewidth": 0,
             "ticks": ""
            },
            "colorscale": [
             [
              0,
              "#0d0887"
             ],
             [
              0.1111111111111111,
              "#46039f"
             ],
             [
              0.2222222222222222,
              "#7201a8"
             ],
             [
              0.3333333333333333,
              "#9c179e"
             ],
             [
              0.4444444444444444,
              "#bd3786"
             ],
             [
              0.5555555555555556,
              "#d8576b"
             ],
             [
              0.6666666666666666,
              "#ed7953"
             ],
             [
              0.7777777777777778,
              "#fb9f3a"
             ],
             [
              0.8888888888888888,
              "#fdca26"
             ],
             [
              1,
              "#f0f921"
             ]
            ],
            "type": "histogram2d"
           }
          ],
          "histogram2dcontour": [
           {
            "colorbar": {
             "outlinewidth": 0,
             "ticks": ""
            },
            "colorscale": [
             [
              0,
              "#0d0887"
             ],
             [
              0.1111111111111111,
              "#46039f"
             ],
             [
              0.2222222222222222,
              "#7201a8"
             ],
             [
              0.3333333333333333,
              "#9c179e"
             ],
             [
              0.4444444444444444,
              "#bd3786"
             ],
             [
              0.5555555555555556,
              "#d8576b"
             ],
             [
              0.6666666666666666,
              "#ed7953"
             ],
             [
              0.7777777777777778,
              "#fb9f3a"
             ],
             [
              0.8888888888888888,
              "#fdca26"
             ],
             [
              1,
              "#f0f921"
             ]
            ],
            "type": "histogram2dcontour"
           }
          ],
          "mesh3d": [
           {
            "colorbar": {
             "outlinewidth": 0,
             "ticks": ""
            },
            "type": "mesh3d"
           }
          ],
          "parcoords": [
           {
            "line": {
             "colorbar": {
              "outlinewidth": 0,
              "ticks": ""
             }
            },
            "type": "parcoords"
           }
          ],
          "pie": [
           {
            "automargin": true,
            "type": "pie"
           }
          ],
          "scatter": [
           {
            "fillpattern": {
             "fillmode": "overlay",
             "size": 10,
             "solidity": 0.2
            },
            "type": "scatter"
           }
          ],
          "scatter3d": [
           {
            "line": {
             "colorbar": {
              "outlinewidth": 0,
              "ticks": ""
             }
            },
            "marker": {
             "colorbar": {
              "outlinewidth": 0,
              "ticks": ""
             }
            },
            "type": "scatter3d"
           }
          ],
          "scattercarpet": [
           {
            "marker": {
             "colorbar": {
              "outlinewidth": 0,
              "ticks": ""
             }
            },
            "type": "scattercarpet"
           }
          ],
          "scattergeo": [
           {
            "marker": {
             "colorbar": {
              "outlinewidth": 0,
              "ticks": ""
             }
            },
            "type": "scattergeo"
           }
          ],
          "scattergl": [
           {
            "marker": {
             "colorbar": {
              "outlinewidth": 0,
              "ticks": ""
             }
            },
            "type": "scattergl"
           }
          ],
          "scattermapbox": [
           {
            "marker": {
             "colorbar": {
              "outlinewidth": 0,
              "ticks": ""
             }
            },
            "type": "scattermapbox"
           }
          ],
          "scatterpolar": [
           {
            "marker": {
             "colorbar": {
              "outlinewidth": 0,
              "ticks": ""
             }
            },
            "type": "scatterpolar"
           }
          ],
          "scatterpolargl": [
           {
            "marker": {
             "colorbar": {
              "outlinewidth": 0,
              "ticks": ""
             }
            },
            "type": "scatterpolargl"
           }
          ],
          "scatterternary": [
           {
            "marker": {
             "colorbar": {
              "outlinewidth": 0,
              "ticks": ""
             }
            },
            "type": "scatterternary"
           }
          ],
          "surface": [
           {
            "colorbar": {
             "outlinewidth": 0,
             "ticks": ""
            },
            "colorscale": [
             [
              0,
              "#0d0887"
             ],
             [
              0.1111111111111111,
              "#46039f"
             ],
             [
              0.2222222222222222,
              "#7201a8"
             ],
             [
              0.3333333333333333,
              "#9c179e"
             ],
             [
              0.4444444444444444,
              "#bd3786"
             ],
             [
              0.5555555555555556,
              "#d8576b"
             ],
             [
              0.6666666666666666,
              "#ed7953"
             ],
             [
              0.7777777777777778,
              "#fb9f3a"
             ],
             [
              0.8888888888888888,
              "#fdca26"
             ],
             [
              1,
              "#f0f921"
             ]
            ],
            "type": "surface"
           }
          ],
          "table": [
           {
            "cells": {
             "fill": {
              "color": "#EBF0F8"
             },
             "line": {
              "color": "white"
             }
            },
            "header": {
             "fill": {
              "color": "#C8D4E3"
             },
             "line": {
              "color": "white"
             }
            },
            "type": "table"
           }
          ]
         },
         "layout": {
          "annotationdefaults": {
           "arrowcolor": "#2a3f5f",
           "arrowhead": 0,
           "arrowwidth": 1
          },
          "autotypenumbers": "strict",
          "coloraxis": {
           "colorbar": {
            "outlinewidth": 0,
            "ticks": ""
           }
          },
          "colorscale": {
           "diverging": [
            [
             0,
             "#8e0152"
            ],
            [
             0.1,
             "#c51b7d"
            ],
            [
             0.2,
             "#de77ae"
            ],
            [
             0.3,
             "#f1b6da"
            ],
            [
             0.4,
             "#fde0ef"
            ],
            [
             0.5,
             "#f7f7f7"
            ],
            [
             0.6,
             "#e6f5d0"
            ],
            [
             0.7,
             "#b8e186"
            ],
            [
             0.8,
             "#7fbc41"
            ],
            [
             0.9,
             "#4d9221"
            ],
            [
             1,
             "#276419"
            ]
           ],
           "sequential": [
            [
             0,
             "#0d0887"
            ],
            [
             0.1111111111111111,
             "#46039f"
            ],
            [
             0.2222222222222222,
             "#7201a8"
            ],
            [
             0.3333333333333333,
             "#9c179e"
            ],
            [
             0.4444444444444444,
             "#bd3786"
            ],
            [
             0.5555555555555556,
             "#d8576b"
            ],
            [
             0.6666666666666666,
             "#ed7953"
            ],
            [
             0.7777777777777778,
             "#fb9f3a"
            ],
            [
             0.8888888888888888,
             "#fdca26"
            ],
            [
             1,
             "#f0f921"
            ]
           ],
           "sequentialminus": [
            [
             0,
             "#0d0887"
            ],
            [
             0.1111111111111111,
             "#46039f"
            ],
            [
             0.2222222222222222,
             "#7201a8"
            ],
            [
             0.3333333333333333,
             "#9c179e"
            ],
            [
             0.4444444444444444,
             "#bd3786"
            ],
            [
             0.5555555555555556,
             "#d8576b"
            ],
            [
             0.6666666666666666,
             "#ed7953"
            ],
            [
             0.7777777777777778,
             "#fb9f3a"
            ],
            [
             0.8888888888888888,
             "#fdca26"
            ],
            [
             1,
             "#f0f921"
            ]
           ]
          },
          "colorway": [
           "#636efa",
           "#EF553B",
           "#00cc96",
           "#ab63fa",
           "#FFA15A",
           "#19d3f3",
           "#FF6692",
           "#B6E880",
           "#FF97FF",
           "#FECB52"
          ],
          "font": {
           "color": "#2a3f5f"
          },
          "geo": {
           "bgcolor": "white",
           "lakecolor": "white",
           "landcolor": "#E5ECF6",
           "showlakes": true,
           "showland": true,
           "subunitcolor": "white"
          },
          "hoverlabel": {
           "align": "left"
          },
          "hovermode": "closest",
          "mapbox": {
           "style": "light"
          },
          "paper_bgcolor": "white",
          "plot_bgcolor": "#E5ECF6",
          "polar": {
           "angularaxis": {
            "gridcolor": "white",
            "linecolor": "white",
            "ticks": ""
           },
           "bgcolor": "#E5ECF6",
           "radialaxis": {
            "gridcolor": "white",
            "linecolor": "white",
            "ticks": ""
           }
          },
          "scene": {
           "xaxis": {
            "backgroundcolor": "#E5ECF6",
            "gridcolor": "white",
            "gridwidth": 2,
            "linecolor": "white",
            "showbackground": true,
            "ticks": "",
            "zerolinecolor": "white"
           },
           "yaxis": {
            "backgroundcolor": "#E5ECF6",
            "gridcolor": "white",
            "gridwidth": 2,
            "linecolor": "white",
            "showbackground": true,
            "ticks": "",
            "zerolinecolor": "white"
           },
           "zaxis": {
            "backgroundcolor": "#E5ECF6",
            "gridcolor": "white",
            "gridwidth": 2,
            "linecolor": "white",
            "showbackground": true,
            "ticks": "",
            "zerolinecolor": "white"
           }
          },
          "shapedefaults": {
           "line": {
            "color": "#2a3f5f"
           }
          },
          "ternary": {
           "aaxis": {
            "gridcolor": "white",
            "linecolor": "white",
            "ticks": ""
           },
           "baxis": {
            "gridcolor": "white",
            "linecolor": "white",
            "ticks": ""
           },
           "bgcolor": "#E5ECF6",
           "caxis": {
            "gridcolor": "white",
            "linecolor": "white",
            "ticks": ""
           }
          },
          "title": {
           "x": 0.05
          },
          "xaxis": {
           "automargin": true,
           "gridcolor": "white",
           "linecolor": "white",
           "ticks": "",
           "title": {
            "standoff": 15
           },
           "zerolinecolor": "white",
           "zerolinewidth": 2
          },
          "yaxis": {
           "automargin": true,
           "gridcolor": "white",
           "linecolor": "white",
           "ticks": "",
           "title": {
            "standoff": 15
           },
           "zerolinecolor": "white",
           "zerolinewidth": 2
          }
         }
        },
        "title": {
         "text": "knee angle"
        },
        "xaxis": {
         "anchor": "y",
         "domain": [
          0,
          1
         ],
         "title": {
          "text": "index"
         }
        },
        "yaxis": {
         "anchor": "x",
         "domain": [
          0,
          1
         ],
         "title": {
          "text": "angle"
         }
        }
       }
      }
     },
     "metadata": {},
     "output_type": "display_data"
    }
   ],
   "source": [
    "df[\"left_knee_angle\"] = df.apply(lambda row: calculate_angle_for_left_knee(row['x23'], row['y23'], row['x25'], row['y25'], row['x27'], row['y27']), axis=1)\n",
    "\n",
    "import plotly.express as px\n",
    "\n",
    "fig = px.line(df, x=df.index, y=['right_knee_angle', \"left_knee_angle\", \"3d_right_knee_angle\", \"3d_left_knee_angle\"], labels={'value': 'angle'}, title='knee angle')\n",
    "\n",
    "# Show the plot\n",
    "fig.show()"
   ]
  },
  {
   "cell_type": "code",
   "execution_count": 61,
   "metadata": {},
   "outputs": [],
   "source": [
    "import numpy as np\n",
    "import math\n",
    "\n",
    "def calculate_3d_angle(x1, y1, z1, x2, y2, z2, x3, y3, z3):\n",
    "    ABx = x1 - x2\n",
    "    ABy = y1 - y2\n",
    "    ABz = z1 - z2\n",
    " \n",
    "    # Find direction ratio of line BC\n",
    "    BCx = x3 - x2\n",
    "    BCy = y3 - y2\n",
    "    BCz = z3 - z2\n",
    " \n",
    "    # Find the dotProduct\n",
    "    # of lines AB & BC\n",
    "    dotProduct = (ABx * BCx +\n",
    "                  ABy * BCy +\n",
    "                  ABz * BCz)\n",
    " \n",
    "    # Find magnitude of\n",
    "    # line AB and BC\n",
    "    magnitudeAB = (ABx * ABx +\n",
    "                   ABy * ABy +\n",
    "                   ABz * ABz)\n",
    "    magnitudeBC = (BCx * BCx +\n",
    "                   BCy * BCy +\n",
    "                   BCz * BCz)\n",
    " \n",
    "    # Find the cosine of\n",
    "    # the angle formed\n",
    "    # by line AB and BC\n",
    "    angle = dotProduct\n",
    "    angle /= math.sqrt(magnitudeAB *\n",
    "                       magnitudeBC)\n",
    " \n",
    "    # Find angle in radian\n",
    "    angle = (angle * 180) / 3.14\n",
    " \n",
    "    # Print angle\n",
    "    return 180- round(abs(angle), 4)\n",
    "\n",
    "    return angle\n"
   ]
  },
  {
   "cell_type": "code",
   "execution_count": 62,
   "metadata": {},
   "outputs": [
    {
     "data": {
      "text/html": [
       "<div>\n",
       "<style scoped>\n",
       "    .dataframe tbody tr th:only-of-type {\n",
       "        vertical-align: middle;\n",
       "    }\n",
       "\n",
       "    .dataframe tbody tr th {\n",
       "        vertical-align: top;\n",
       "    }\n",
       "\n",
       "    .dataframe thead th {\n",
       "        text-align: right;\n",
       "    }\n",
       "</style>\n",
       "<table border=\"1\" class=\"dataframe\">\n",
       "  <thead>\n",
       "    <tr style=\"text-align: right;\">\n",
       "      <th></th>\n",
       "      <th>x1</th>\n",
       "      <th>y1</th>\n",
       "      <th>z1</th>\n",
       "      <th>v1</th>\n",
       "      <th>x2</th>\n",
       "      <th>y2</th>\n",
       "      <th>z2</th>\n",
       "      <th>v2</th>\n",
       "      <th>x3</th>\n",
       "      <th>y3</th>\n",
       "      <th>...</th>\n",
       "      <th>v32</th>\n",
       "      <th>x33</th>\n",
       "      <th>y33</th>\n",
       "      <th>z33</th>\n",
       "      <th>v33</th>\n",
       "      <th>class</th>\n",
       "      <th>right_knee_angle</th>\n",
       "      <th>3d_right_knee_angle</th>\n",
       "      <th>3d_left_knee_angle</th>\n",
       "      <th>left_knee_angle</th>\n",
       "    </tr>\n",
       "  </thead>\n",
       "  <tbody>\n",
       "    <tr>\n",
       "      <th>0</th>\n",
       "      <td>0.158780</td>\n",
       "      <td>-0.673855</td>\n",
       "      <td>-0.186296</td>\n",
       "      <td>0.999996</td>\n",
       "      <td>0.180337</td>\n",
       "      <td>-0.703550</td>\n",
       "      <td>-0.170040</td>\n",
       "      <td>0.999988</td>\n",
       "      <td>0.179809</td>\n",
       "      <td>-0.703629</td>\n",
       "      <td>...</td>\n",
       "      <td>0.987446</td>\n",
       "      <td>-0.261594</td>\n",
       "      <td>0.825552</td>\n",
       "      <td>0.102739</td>\n",
       "      <td>0.987012</td>\n",
       "      <td>NaN</td>\n",
       "      <td>178.182584</td>\n",
       "      <td>52.9705</td>\n",
       "      <td>49.6644</td>\n",
       "      <td>166.963154</td>\n",
       "    </tr>\n",
       "    <tr>\n",
       "      <th>1</th>\n",
       "      <td>0.158124</td>\n",
       "      <td>-0.678320</td>\n",
       "      <td>-0.183805</td>\n",
       "      <td>0.999996</td>\n",
       "      <td>0.178972</td>\n",
       "      <td>-0.708250</td>\n",
       "      <td>-0.167016</td>\n",
       "      <td>0.999988</td>\n",
       "      <td>0.178455</td>\n",
       "      <td>-0.708327</td>\n",
       "      <td>...</td>\n",
       "      <td>0.986248</td>\n",
       "      <td>-0.264204</td>\n",
       "      <td>0.821462</td>\n",
       "      <td>0.081046</td>\n",
       "      <td>0.986238</td>\n",
       "      <td>NaN</td>\n",
       "      <td>179.320536</td>\n",
       "      <td>53.4581</td>\n",
       "      <td>49.2584</td>\n",
       "      <td>167.005136</td>\n",
       "    </tr>\n",
       "    <tr>\n",
       "      <th>2</th>\n",
       "      <td>0.157839</td>\n",
       "      <td>-0.679194</td>\n",
       "      <td>-0.183637</td>\n",
       "      <td>0.999996</td>\n",
       "      <td>0.178438</td>\n",
       "      <td>-0.709184</td>\n",
       "      <td>-0.166715</td>\n",
       "      <td>0.999988</td>\n",
       "      <td>0.177924</td>\n",
       "      <td>-0.709261</td>\n",
       "      <td>...</td>\n",
       "      <td>0.985029</td>\n",
       "      <td>-0.264317</td>\n",
       "      <td>0.821420</td>\n",
       "      <td>0.070442</td>\n",
       "      <td>0.985416</td>\n",
       "      <td>NaN</td>\n",
       "      <td>179.630619</td>\n",
       "      <td>53.6727</td>\n",
       "      <td>48.9412</td>\n",
       "      <td>166.864771</td>\n",
       "    </tr>\n",
       "    <tr>\n",
       "      <th>3</th>\n",
       "      <td>0.153888</td>\n",
       "      <td>-0.678638</td>\n",
       "      <td>-0.180764</td>\n",
       "      <td>0.999996</td>\n",
       "      <td>0.174234</td>\n",
       "      <td>-0.708881</td>\n",
       "      <td>-0.163797</td>\n",
       "      <td>0.999988</td>\n",
       "      <td>0.173717</td>\n",
       "      <td>-0.708960</td>\n",
       "      <td>...</td>\n",
       "      <td>0.984004</td>\n",
       "      <td>-0.264340</td>\n",
       "      <td>0.821542</td>\n",
       "      <td>0.060991</td>\n",
       "      <td>0.984938</td>\n",
       "      <td>NaN</td>\n",
       "      <td>179.546942</td>\n",
       "      <td>53.6978</td>\n",
       "      <td>48.1979</td>\n",
       "      <td>165.791572</td>\n",
       "    </tr>\n",
       "    <tr>\n",
       "      <th>4</th>\n",
       "      <td>0.143902</td>\n",
       "      <td>-0.677411</td>\n",
       "      <td>-0.185008</td>\n",
       "      <td>0.999996</td>\n",
       "      <td>0.163196</td>\n",
       "      <td>-0.708295</td>\n",
       "      <td>-0.168243</td>\n",
       "      <td>0.999988</td>\n",
       "      <td>0.162679</td>\n",
       "      <td>-0.708372</td>\n",
       "      <td>...</td>\n",
       "      <td>0.983193</td>\n",
       "      <td>-0.267096</td>\n",
       "      <td>0.821610</td>\n",
       "      <td>0.064262</td>\n",
       "      <td>0.984547</td>\n",
       "      <td>NaN</td>\n",
       "      <td>178.338764</td>\n",
       "      <td>53.5731</td>\n",
       "      <td>47.7579</td>\n",
       "      <td>164.696034</td>\n",
       "    </tr>\n",
       "  </tbody>\n",
       "</table>\n",
       "<p>5 rows × 137 columns</p>\n",
       "</div>"
      ],
      "text/plain": [
       "         x1        y1        z1        v1        x2        y2        z2  \\\n",
       "0  0.158780 -0.673855 -0.186296  0.999996  0.180337 -0.703550 -0.170040   \n",
       "1  0.158124 -0.678320 -0.183805  0.999996  0.178972 -0.708250 -0.167016   \n",
       "2  0.157839 -0.679194 -0.183637  0.999996  0.178438 -0.709184 -0.166715   \n",
       "3  0.153888 -0.678638 -0.180764  0.999996  0.174234 -0.708881 -0.163797   \n",
       "4  0.143902 -0.677411 -0.185008  0.999996  0.163196 -0.708295 -0.168243   \n",
       "\n",
       "         v2        x3        y3  ...       v32       x33       y33       z33  \\\n",
       "0  0.999988  0.179809 -0.703629  ...  0.987446 -0.261594  0.825552  0.102739   \n",
       "1  0.999988  0.178455 -0.708327  ...  0.986248 -0.264204  0.821462  0.081046   \n",
       "2  0.999988  0.177924 -0.709261  ...  0.985029 -0.264317  0.821420  0.070442   \n",
       "3  0.999988  0.173717 -0.708960  ...  0.984004 -0.264340  0.821542  0.060991   \n",
       "4  0.999988  0.162679 -0.708372  ...  0.983193 -0.267096  0.821610  0.064262   \n",
       "\n",
       "        v33  class  right_knee_angle  3d_right_knee_angle  3d_left_knee_angle  \\\n",
       "0  0.987012    NaN        178.182584              52.9705             49.6644   \n",
       "1  0.986238    NaN        179.320536              53.4581             49.2584   \n",
       "2  0.985416    NaN        179.630619              53.6727             48.9412   \n",
       "3  0.984938    NaN        179.546942              53.6978             48.1979   \n",
       "4  0.984547    NaN        178.338764              53.5731             47.7579   \n",
       "\n",
       "   left_knee_angle  \n",
       "0       166.963154  \n",
       "1       167.005136  \n",
       "2       166.864771  \n",
       "3       165.791572  \n",
       "4       164.696034  \n",
       "\n",
       "[5 rows x 137 columns]"
      ]
     },
     "execution_count": 62,
     "metadata": {},
     "output_type": "execute_result"
    }
   ],
   "source": [
    "df[\"3d_right_knee_angle\"] = df.apply(lambda row: calculate_3d_angle(row[\"x24\"], row[\"y24\"], row[\"z24\"], row[\"x26\"], row[\"y26\"], row[\"z26\"], row[\"x28\"], row[\"y28\"], row[\"z28\"]), axis=1)\n",
    "df[\"3d_left_knee_angle\"] = df.apply(lambda row: calculate_3d_angle(row[\"x23\"], row[\"y23\"], row[\"z23\"], row[\"x25\"], row[\"y25\"], row[\"z25\"], row[\"x27\"], row[\"y27\"], row[\"z27\"]), axis=1)\n",
    "\n",
    "df.head()\n"
   ]
  },
  {
   "cell_type": "code",
   "execution_count": 49,
   "metadata": {},
   "outputs": [],
   "source": [
    "import cv2\n",
    "import mediapipe as mp\n",
    "mp_drawing = mp.solutions.drawing_utils\n",
    "mp_holistic = mp.solutions.holistic\n",
    "\n",
    "cap = cv2.VideoCapture(\"C:/Users/chengyang/Physio/videos/notEnoughBendSquat5.mp4\")\n",
    "\n",
    "# setup mediapipe instance\n",
    "with mp_holistic.Holistic(model_complexity = 0, min_detection_confidence=0.5, min_tracking_confidence=0.5) as pose:\n",
    "    while cap.isOpened():\n",
    "        ret, frame = cap.read()\n",
    "        if not ret:\n",
    "            print(\"hi\")\n",
    "            break\n",
    "        # recoloring the image from bgr to rgb, opencv gives a format in bgr but mediapipe needs rgb\n",
    "        image = cv2.cvtColor(frame, cv2.COLOR_BGR2RGB)\n",
    "        image.flags.writeable = False\n",
    "\n",
    "        # make detection\n",
    "        results = pose.process(image)\n",
    "\n",
    "        image.flags.writeable = True\n",
    "        image = cv2.cvtColor(image, cv2.COLOR_RGB2BGR)\n",
    "\n",
    "        \n",
    "\n",
    "        # render detections\n",
    "        mp_drawing.draw_landmarks(image, results.pose_landmarks, mp_holistic.POSE_CONNECTIONS)\n",
    "        results = results.pose_world_landmarks\n",
    "        connection = mp_holistic.POSE_CONNECTIONS\n",
    "        cv2.imshow(\"Mediapipe Feed\", image)\n",
    "\n",
    "        if cv2.waitKey(10) & 0xFF == ord('q'):\n",
    "            break\n",
    "\n",
    "    cap.release()\n",
    "    cv2.destroyAllWindows()"
   ]
  },
  {
   "cell_type": "code",
   "execution_count": 50,
   "metadata": {},
   "outputs": [
    {
     "data": {
      "application/vnd.plotly.v1+json": {
       "config": {
        "plotlyServerURL": "https://plot.ly"
       },
       "data": [
        {
         "hovertemplate": "<b>%{hovertext}</b><br><br>z=%{x}<br>x=%{y}<br>y=%{z}<extra></extra>",
         "hovertext": [
          "NOSE",
          "LEFT_EYE_INNER",
          "LEFT_EYE",
          "LEFT_EYE_OUTER",
          "RIGHT_EYE_INNER",
          "RIGHT_EYE",
          "RIGHT_EYE_OUTER",
          "LEFT_EAR",
          "RIGHT_EAR",
          "MOUTH_LEFT",
          "MOUTH_RIGHT",
          "LEFT_SHOULDER",
          "RIGHT_SHOULDER",
          "LEFT_ELBOW",
          "RIGHT_ELBOW",
          "LEFT_WRIST",
          "RIGHT_WRIST",
          "LEFT_PINKY",
          "RIGHT_PINKY",
          "LEFT_INDEX",
          "RIGHT_INDEX",
          "LEFT_THUMB",
          "RIGHT_THUMB",
          "LEFT_HIP",
          "RIGHT_HIP",
          "LEFT_KNEE",
          "RIGHT_KNEE",
          "LEFT_ANKLE",
          "RIGHT_ANKLE",
          "LEFT_HEEL",
          "RIGHT_HEEL",
          "LEFT_FOOT_INDEX",
          "RIGHT_FOOT_INDEX"
         ],
         "legendgroup": "",
         "marker": {
          "color": "red",
          "symbol": "circle"
         },
         "mode": "markers",
         "name": "",
         "scene": "scene",
         "showlegend": false,
         "type": "scatter3d",
         "x": [
          0.11531710624694824,
          0.12603183090686798,
          0.12762057781219482,
          0.1256810873746872,
          0.10259389877319336,
          0.10280490666627884,
          0.09906531125307083,
          0.10052523761987686,
          -0.011947019025683403,
          0.11331438273191452,
          0.07861089706420898,
          0.14820708334445953,
          -0.10364394634962082,
          0.2607311010360718,
          -0.014849651604890823,
          0.28610315918922424,
          0.19108468294143677,
          0.31856825947761536,
          0.23572251200675964,
          0.31227627396583557,
          0.2270127236843109,
          0.28565290570259094,
          0.19601011276245117,
          0.09231381863355637,
          -0.0926155149936676,
          0.18787525594234467,
          -0.01580369845032692,
          0.15342243015766144,
          -0.11168414354324341,
          0.1531394124031067,
          -0.11653492599725723,
          0.2189045548439026,
          -0.0696566179394722
         ],
         "y": [
          -0.21691615879535675,
          -0.19887015223503113,
          -0.19933229684829712,
          -0.19892828166484833,
          -0.220389261841774,
          -0.21844717860221863,
          -0.21884647011756897,
          -0.08646240830421448,
          -0.16868707537651062,
          -0.176733136177063,
          -0.1998302936553955,
          -0.00400519696995616,
          -0.175198033452034,
          -0.1267850399017334,
          -0.3052116930484772,
          -0.28795233368873596,
          -0.36275655031204224,
          -0.3247368633747101,
          -0.3762389123439789,
          -0.3145737648010254,
          -0.3639238774776459,
          -0.2946365475654602,
          -0.3555087149143219,
          0.056888967752456665,
          -0.058104608207941055,
          -0.15257208049297333,
          -0.26932284235954285,
          0.023322822526097298,
          -0.1955229938030243,
          0.04117761552333832,
          -0.18903616070747375,
          -0.01671004109084606,
          -0.25656747817993164
         ],
         "z": [
          0.5941249132156372,
          0.6290701627731323,
          0.628973126411438,
          0.6292444467544556,
          0.6308420300483704,
          0.6321374773979187,
          0.6310234665870667,
          0.6202370524406433,
          0.6315129995346069,
          0.5674167275428772,
          0.5693166255950928,
          0.46776872873306274,
          0.4690190553665161,
          0.34970828890800476,
          0.3226005434989929,
          0.4674914479255676,
          0.4433959126472473,
          0.48424580693244934,
          0.47228938341140747,
          0.5224085450172424,
          0.5052560567855835,
          0.4886300563812256,
          0.4592347741127014,
          0.0026652507949620485,
          -0.002498082583770156,
          -0.23570220172405243,
          -0.19022420048713684,
          -0.6045681238174438,
          -0.5008511543273926,
          -0.6485224366188049,
          -0.537095308303833,
          -0.7309346795082092,
          -0.6247910857200623
         ]
        },
        {
         "line": {
          "color": "black",
          "width": 5
         },
         "mode": "lines",
         "name": "connections",
         "type": "scatter3d",
         "x": [
          0.28610315918922424,
          0.28565290570259094,
          null,
          0.19108468294143677,
          0.2270127236843109,
          null,
          0.23572251200675964,
          0.2270127236843109,
          null,
          0.1256810873746872,
          0.10052523761987686,
          null,
          -0.014849651604890823,
          0.19108468294143677,
          null,
          0.09231381863355637,
          0.18787525594234467,
          null,
          -0.11168414354324341,
          -0.11653492599725723,
          null,
          0.14820708334445953,
          0.09231381863355637,
          null,
          0.15342243015766144,
          0.2189045548439026,
          null,
          0.09906531125307083,
          -0.011947019025683403,
          null,
          0.28610315918922424,
          0.31856825947761536,
          null,
          -0.0926155149936676,
          -0.01580369845032692,
          null,
          0.19108468294143677,
          0.19601011276245117,
          null,
          0.10259389877319336,
          0.10280490666627884,
          null,
          0.10280490666627884,
          0.09906531125307083,
          null,
          0.1531394124031067,
          0.2189045548439026,
          null,
          -0.10364394634962082,
          -0.0926155149936676,
          null,
          0.09231381863355637,
          -0.0926155149936676,
          null,
          0.11531710624694824,
          0.12603183090686798,
          null,
          0.11331438273191452,
          0.07861089706420898,
          null,
          0.12603183090686798,
          0.12762057781219482,
          null,
          0.11531710624694824,
          0.10259389877319336,
          null,
          0.14820708334445953,
          0.2607311010360718,
          null,
          -0.11653492599725723,
          -0.0696566179394722,
          null,
          -0.11168414354324341,
          -0.0696566179394722,
          null,
          0.28610315918922424,
          0.31227627396583557,
          null,
          0.19108468294143677,
          0.23572251200675964,
          null,
          0.18787525594234467,
          0.15342243015766144,
          null,
          -0.01580369845032692,
          -0.11168414354324341,
          null,
          -0.10364394634962082,
          -0.014849651604890823,
          null,
          0.31856825947761536,
          0.31227627396583557,
          null,
          0.12762057781219482,
          0.1256810873746872,
          null,
          0.14820708334445953,
          -0.10364394634962082,
          null,
          0.15342243015766144,
          0.1531394124031067,
          null,
          0.2607311010360718,
          0.28610315918922424,
          null
         ],
         "y": [
          -0.28795233368873596,
          -0.2946365475654602,
          null,
          -0.36275655031204224,
          -0.3639238774776459,
          null,
          -0.3762389123439789,
          -0.3639238774776459,
          null,
          -0.19892828166484833,
          -0.08646240830421448,
          null,
          -0.3052116930484772,
          -0.36275655031204224,
          null,
          0.056888967752456665,
          -0.15257208049297333,
          null,
          -0.1955229938030243,
          -0.18903616070747375,
          null,
          -0.00400519696995616,
          0.056888967752456665,
          null,
          0.023322822526097298,
          -0.01671004109084606,
          null,
          -0.21884647011756897,
          -0.16868707537651062,
          null,
          -0.28795233368873596,
          -0.3247368633747101,
          null,
          -0.058104608207941055,
          -0.26932284235954285,
          null,
          -0.36275655031204224,
          -0.3555087149143219,
          null,
          -0.220389261841774,
          -0.21844717860221863,
          null,
          -0.21844717860221863,
          -0.21884647011756897,
          null,
          0.04117761552333832,
          -0.01671004109084606,
          null,
          -0.175198033452034,
          -0.058104608207941055,
          null,
          0.056888967752456665,
          -0.058104608207941055,
          null,
          -0.21691615879535675,
          -0.19887015223503113,
          null,
          -0.176733136177063,
          -0.1998302936553955,
          null,
          -0.19887015223503113,
          -0.19933229684829712,
          null,
          -0.21691615879535675,
          -0.220389261841774,
          null,
          -0.00400519696995616,
          -0.1267850399017334,
          null,
          -0.18903616070747375,
          -0.25656747817993164,
          null,
          -0.1955229938030243,
          -0.25656747817993164,
          null,
          -0.28795233368873596,
          -0.3145737648010254,
          null,
          -0.36275655031204224,
          -0.3762389123439789,
          null,
          -0.15257208049297333,
          0.023322822526097298,
          null,
          -0.26932284235954285,
          -0.1955229938030243,
          null,
          -0.175198033452034,
          -0.3052116930484772,
          null,
          -0.3247368633747101,
          -0.3145737648010254,
          null,
          -0.19933229684829712,
          -0.19892828166484833,
          null,
          -0.00400519696995616,
          -0.175198033452034,
          null,
          0.023322822526097298,
          0.04117761552333832,
          null,
          -0.1267850399017334,
          -0.28795233368873596,
          null
         ],
         "z": [
          0.4674914479255676,
          0.4886300563812256,
          null,
          0.4433959126472473,
          0.5052560567855835,
          null,
          0.47228938341140747,
          0.5052560567855835,
          null,
          0.6292444467544556,
          0.6202370524406433,
          null,
          0.3226005434989929,
          0.4433959126472473,
          null,
          0.0026652507949620485,
          -0.23570220172405243,
          null,
          -0.5008511543273926,
          -0.537095308303833,
          null,
          0.46776872873306274,
          0.0026652507949620485,
          null,
          -0.6045681238174438,
          -0.7309346795082092,
          null,
          0.6310234665870667,
          0.6315129995346069,
          null,
          0.4674914479255676,
          0.48424580693244934,
          null,
          -0.002498082583770156,
          -0.19022420048713684,
          null,
          0.4433959126472473,
          0.4592347741127014,
          null,
          0.6308420300483704,
          0.6321374773979187,
          null,
          0.6321374773979187,
          0.6310234665870667,
          null,
          -0.6485224366188049,
          -0.7309346795082092,
          null,
          0.4690190553665161,
          -0.002498082583770156,
          null,
          0.0026652507949620485,
          -0.002498082583770156,
          null,
          0.5941249132156372,
          0.6290701627731323,
          null,
          0.5674167275428772,
          0.5693166255950928,
          null,
          0.6290701627731323,
          0.628973126411438,
          null,
          0.5941249132156372,
          0.6308420300483704,
          null,
          0.46776872873306274,
          0.34970828890800476,
          null,
          -0.537095308303833,
          -0.6247910857200623,
          null,
          -0.5008511543273926,
          -0.6247910857200623,
          null,
          0.4674914479255676,
          0.5224085450172424,
          null,
          0.4433959126472473,
          0.47228938341140747,
          null,
          -0.23570220172405243,
          -0.6045681238174438,
          null,
          -0.19022420048713684,
          -0.5008511543273926,
          null,
          0.4690190553665161,
          0.3226005434989929,
          null,
          0.48424580693244934,
          0.5224085450172424,
          null,
          0.628973126411438,
          0.6292444467544556,
          null,
          0.46776872873306274,
          0.4690190553665161,
          null,
          -0.6045681238174438,
          -0.6485224366188049,
          null,
          0.34970828890800476,
          0.4674914479255676,
          null
         ]
        }
       ],
       "layout": {
        "legend": {
         "tracegroupgap": 0
        },
        "margin": {
         "b": 0,
         "l": 0,
         "r": 0,
         "t": 0
        },
        "scene": {
         "camera": {
          "eye": {
           "x": 2.1,
           "y": 0,
           "z": 0
          }
         },
         "domain": {
          "x": [
           0,
           1
          ],
          "y": [
           0,
           1
          ]
         },
         "xaxis": {
          "title": {
           "text": "z"
          }
         },
         "yaxis": {
          "title": {
           "text": "x"
          }
         },
         "zaxis": {
          "title": {
           "text": "y"
          }
         }
        },
        "template": {
         "data": {
          "bar": [
           {
            "error_x": {
             "color": "#2a3f5f"
            },
            "error_y": {
             "color": "#2a3f5f"
            },
            "marker": {
             "line": {
              "color": "#E5ECF6",
              "width": 0.5
             },
             "pattern": {
              "fillmode": "overlay",
              "size": 10,
              "solidity": 0.2
             }
            },
            "type": "bar"
           }
          ],
          "barpolar": [
           {
            "marker": {
             "line": {
              "color": "#E5ECF6",
              "width": 0.5
             },
             "pattern": {
              "fillmode": "overlay",
              "size": 10,
              "solidity": 0.2
             }
            },
            "type": "barpolar"
           }
          ],
          "carpet": [
           {
            "aaxis": {
             "endlinecolor": "#2a3f5f",
             "gridcolor": "white",
             "linecolor": "white",
             "minorgridcolor": "white",
             "startlinecolor": "#2a3f5f"
            },
            "baxis": {
             "endlinecolor": "#2a3f5f",
             "gridcolor": "white",
             "linecolor": "white",
             "minorgridcolor": "white",
             "startlinecolor": "#2a3f5f"
            },
            "type": "carpet"
           }
          ],
          "choropleth": [
           {
            "colorbar": {
             "outlinewidth": 0,
             "ticks": ""
            },
            "type": "choropleth"
           }
          ],
          "contour": [
           {
            "colorbar": {
             "outlinewidth": 0,
             "ticks": ""
            },
            "colorscale": [
             [
              0,
              "#0d0887"
             ],
             [
              0.1111111111111111,
              "#46039f"
             ],
             [
              0.2222222222222222,
              "#7201a8"
             ],
             [
              0.3333333333333333,
              "#9c179e"
             ],
             [
              0.4444444444444444,
              "#bd3786"
             ],
             [
              0.5555555555555556,
              "#d8576b"
             ],
             [
              0.6666666666666666,
              "#ed7953"
             ],
             [
              0.7777777777777778,
              "#fb9f3a"
             ],
             [
              0.8888888888888888,
              "#fdca26"
             ],
             [
              1,
              "#f0f921"
             ]
            ],
            "type": "contour"
           }
          ],
          "contourcarpet": [
           {
            "colorbar": {
             "outlinewidth": 0,
             "ticks": ""
            },
            "type": "contourcarpet"
           }
          ],
          "heatmap": [
           {
            "colorbar": {
             "outlinewidth": 0,
             "ticks": ""
            },
            "colorscale": [
             [
              0,
              "#0d0887"
             ],
             [
              0.1111111111111111,
              "#46039f"
             ],
             [
              0.2222222222222222,
              "#7201a8"
             ],
             [
              0.3333333333333333,
              "#9c179e"
             ],
             [
              0.4444444444444444,
              "#bd3786"
             ],
             [
              0.5555555555555556,
              "#d8576b"
             ],
             [
              0.6666666666666666,
              "#ed7953"
             ],
             [
              0.7777777777777778,
              "#fb9f3a"
             ],
             [
              0.8888888888888888,
              "#fdca26"
             ],
             [
              1,
              "#f0f921"
             ]
            ],
            "type": "heatmap"
           }
          ],
          "heatmapgl": [
           {
            "colorbar": {
             "outlinewidth": 0,
             "ticks": ""
            },
            "colorscale": [
             [
              0,
              "#0d0887"
             ],
             [
              0.1111111111111111,
              "#46039f"
             ],
             [
              0.2222222222222222,
              "#7201a8"
             ],
             [
              0.3333333333333333,
              "#9c179e"
             ],
             [
              0.4444444444444444,
              "#bd3786"
             ],
             [
              0.5555555555555556,
              "#d8576b"
             ],
             [
              0.6666666666666666,
              "#ed7953"
             ],
             [
              0.7777777777777778,
              "#fb9f3a"
             ],
             [
              0.8888888888888888,
              "#fdca26"
             ],
             [
              1,
              "#f0f921"
             ]
            ],
            "type": "heatmapgl"
           }
          ],
          "histogram": [
           {
            "marker": {
             "pattern": {
              "fillmode": "overlay",
              "size": 10,
              "solidity": 0.2
             }
            },
            "type": "histogram"
           }
          ],
          "histogram2d": [
           {
            "colorbar": {
             "outlinewidth": 0,
             "ticks": ""
            },
            "colorscale": [
             [
              0,
              "#0d0887"
             ],
             [
              0.1111111111111111,
              "#46039f"
             ],
             [
              0.2222222222222222,
              "#7201a8"
             ],
             [
              0.3333333333333333,
              "#9c179e"
             ],
             [
              0.4444444444444444,
              "#bd3786"
             ],
             [
              0.5555555555555556,
              "#d8576b"
             ],
             [
              0.6666666666666666,
              "#ed7953"
             ],
             [
              0.7777777777777778,
              "#fb9f3a"
             ],
             [
              0.8888888888888888,
              "#fdca26"
             ],
             [
              1,
              "#f0f921"
             ]
            ],
            "type": "histogram2d"
           }
          ],
          "histogram2dcontour": [
           {
            "colorbar": {
             "outlinewidth": 0,
             "ticks": ""
            },
            "colorscale": [
             [
              0,
              "#0d0887"
             ],
             [
              0.1111111111111111,
              "#46039f"
             ],
             [
              0.2222222222222222,
              "#7201a8"
             ],
             [
              0.3333333333333333,
              "#9c179e"
             ],
             [
              0.4444444444444444,
              "#bd3786"
             ],
             [
              0.5555555555555556,
              "#d8576b"
             ],
             [
              0.6666666666666666,
              "#ed7953"
             ],
             [
              0.7777777777777778,
              "#fb9f3a"
             ],
             [
              0.8888888888888888,
              "#fdca26"
             ],
             [
              1,
              "#f0f921"
             ]
            ],
            "type": "histogram2dcontour"
           }
          ],
          "mesh3d": [
           {
            "colorbar": {
             "outlinewidth": 0,
             "ticks": ""
            },
            "type": "mesh3d"
           }
          ],
          "parcoords": [
           {
            "line": {
             "colorbar": {
              "outlinewidth": 0,
              "ticks": ""
             }
            },
            "type": "parcoords"
           }
          ],
          "pie": [
           {
            "automargin": true,
            "type": "pie"
           }
          ],
          "scatter": [
           {
            "fillpattern": {
             "fillmode": "overlay",
             "size": 10,
             "solidity": 0.2
            },
            "type": "scatter"
           }
          ],
          "scatter3d": [
           {
            "line": {
             "colorbar": {
              "outlinewidth": 0,
              "ticks": ""
             }
            },
            "marker": {
             "colorbar": {
              "outlinewidth": 0,
              "ticks": ""
             }
            },
            "type": "scatter3d"
           }
          ],
          "scattercarpet": [
           {
            "marker": {
             "colorbar": {
              "outlinewidth": 0,
              "ticks": ""
             }
            },
            "type": "scattercarpet"
           }
          ],
          "scattergeo": [
           {
            "marker": {
             "colorbar": {
              "outlinewidth": 0,
              "ticks": ""
             }
            },
            "type": "scattergeo"
           }
          ],
          "scattergl": [
           {
            "marker": {
             "colorbar": {
              "outlinewidth": 0,
              "ticks": ""
             }
            },
            "type": "scattergl"
           }
          ],
          "scattermapbox": [
           {
            "marker": {
             "colorbar": {
              "outlinewidth": 0,
              "ticks": ""
             }
            },
            "type": "scattermapbox"
           }
          ],
          "scatterpolar": [
           {
            "marker": {
             "colorbar": {
              "outlinewidth": 0,
              "ticks": ""
             }
            },
            "type": "scatterpolar"
           }
          ],
          "scatterpolargl": [
           {
            "marker": {
             "colorbar": {
              "outlinewidth": 0,
              "ticks": ""
             }
            },
            "type": "scatterpolargl"
           }
          ],
          "scatterternary": [
           {
            "marker": {
             "colorbar": {
              "outlinewidth": 0,
              "ticks": ""
             }
            },
            "type": "scatterternary"
           }
          ],
          "surface": [
           {
            "colorbar": {
             "outlinewidth": 0,
             "ticks": ""
            },
            "colorscale": [
             [
              0,
              "#0d0887"
             ],
             [
              0.1111111111111111,
              "#46039f"
             ],
             [
              0.2222222222222222,
              "#7201a8"
             ],
             [
              0.3333333333333333,
              "#9c179e"
             ],
             [
              0.4444444444444444,
              "#bd3786"
             ],
             [
              0.5555555555555556,
              "#d8576b"
             ],
             [
              0.6666666666666666,
              "#ed7953"
             ],
             [
              0.7777777777777778,
              "#fb9f3a"
             ],
             [
              0.8888888888888888,
              "#fdca26"
             ],
             [
              1,
              "#f0f921"
             ]
            ],
            "type": "surface"
           }
          ],
          "table": [
           {
            "cells": {
             "fill": {
              "color": "#EBF0F8"
             },
             "line": {
              "color": "white"
             }
            },
            "header": {
             "fill": {
              "color": "#C8D4E3"
             },
             "line": {
              "color": "white"
             }
            },
            "type": "table"
           }
          ]
         },
         "layout": {
          "annotationdefaults": {
           "arrowcolor": "#2a3f5f",
           "arrowhead": 0,
           "arrowwidth": 1
          },
          "autotypenumbers": "strict",
          "coloraxis": {
           "colorbar": {
            "outlinewidth": 0,
            "ticks": ""
           }
          },
          "colorscale": {
           "diverging": [
            [
             0,
             "#8e0152"
            ],
            [
             0.1,
             "#c51b7d"
            ],
            [
             0.2,
             "#de77ae"
            ],
            [
             0.3,
             "#f1b6da"
            ],
            [
             0.4,
             "#fde0ef"
            ],
            [
             0.5,
             "#f7f7f7"
            ],
            [
             0.6,
             "#e6f5d0"
            ],
            [
             0.7,
             "#b8e186"
            ],
            [
             0.8,
             "#7fbc41"
            ],
            [
             0.9,
             "#4d9221"
            ],
            [
             1,
             "#276419"
            ]
           ],
           "sequential": [
            [
             0,
             "#0d0887"
            ],
            [
             0.1111111111111111,
             "#46039f"
            ],
            [
             0.2222222222222222,
             "#7201a8"
            ],
            [
             0.3333333333333333,
             "#9c179e"
            ],
            [
             0.4444444444444444,
             "#bd3786"
            ],
            [
             0.5555555555555556,
             "#d8576b"
            ],
            [
             0.6666666666666666,
             "#ed7953"
            ],
            [
             0.7777777777777778,
             "#fb9f3a"
            ],
            [
             0.8888888888888888,
             "#fdca26"
            ],
            [
             1,
             "#f0f921"
            ]
           ],
           "sequentialminus": [
            [
             0,
             "#0d0887"
            ],
            [
             0.1111111111111111,
             "#46039f"
            ],
            [
             0.2222222222222222,
             "#7201a8"
            ],
            [
             0.3333333333333333,
             "#9c179e"
            ],
            [
             0.4444444444444444,
             "#bd3786"
            ],
            [
             0.5555555555555556,
             "#d8576b"
            ],
            [
             0.6666666666666666,
             "#ed7953"
            ],
            [
             0.7777777777777778,
             "#fb9f3a"
            ],
            [
             0.8888888888888888,
             "#fdca26"
            ],
            [
             1,
             "#f0f921"
            ]
           ]
          },
          "colorway": [
           "#636efa",
           "#EF553B",
           "#00cc96",
           "#ab63fa",
           "#FFA15A",
           "#19d3f3",
           "#FF6692",
           "#B6E880",
           "#FF97FF",
           "#FECB52"
          ],
          "font": {
           "color": "#2a3f5f"
          },
          "geo": {
           "bgcolor": "white",
           "lakecolor": "white",
           "landcolor": "#E5ECF6",
           "showlakes": true,
           "showland": true,
           "subunitcolor": "white"
          },
          "hoverlabel": {
           "align": "left"
          },
          "hovermode": "closest",
          "mapbox": {
           "style": "light"
          },
          "paper_bgcolor": "white",
          "plot_bgcolor": "#E5ECF6",
          "polar": {
           "angularaxis": {
            "gridcolor": "white",
            "linecolor": "white",
            "ticks": ""
           },
           "bgcolor": "#E5ECF6",
           "radialaxis": {
            "gridcolor": "white",
            "linecolor": "white",
            "ticks": ""
           }
          },
          "scene": {
           "xaxis": {
            "backgroundcolor": "#E5ECF6",
            "gridcolor": "white",
            "gridwidth": 2,
            "linecolor": "white",
            "showbackground": true,
            "ticks": "",
            "zerolinecolor": "white"
           },
           "yaxis": {
            "backgroundcolor": "#E5ECF6",
            "gridcolor": "white",
            "gridwidth": 2,
            "linecolor": "white",
            "showbackground": true,
            "ticks": "",
            "zerolinecolor": "white"
           },
           "zaxis": {
            "backgroundcolor": "#E5ECF6",
            "gridcolor": "white",
            "gridwidth": 2,
            "linecolor": "white",
            "showbackground": true,
            "ticks": "",
            "zerolinecolor": "white"
           }
          },
          "shapedefaults": {
           "line": {
            "color": "#2a3f5f"
           }
          },
          "ternary": {
           "aaxis": {
            "gridcolor": "white",
            "linecolor": "white",
            "ticks": ""
           },
           "baxis": {
            "gridcolor": "white",
            "linecolor": "white",
            "ticks": ""
           },
           "bgcolor": "#E5ECF6",
           "caxis": {
            "gridcolor": "white",
            "linecolor": "white",
            "ticks": ""
           }
          },
          "title": {
           "x": 0.05
          },
          "xaxis": {
           "automargin": true,
           "gridcolor": "white",
           "linecolor": "white",
           "ticks": "",
           "title": {
            "standoff": 15
           },
           "zerolinecolor": "white",
           "zerolinewidth": 2
          },
          "yaxis": {
           "automargin": true,
           "gridcolor": "white",
           "linecolor": "white",
           "ticks": "",
           "title": {
            "standoff": 15
           },
           "zerolinecolor": "white",
           "zerolinewidth": 2
          }
         }
        }
       }
      }
     },
     "metadata": {},
     "output_type": "display_data"
    }
   ],
   "source": [
    "import pandas as pd\n",
    "import plotly.graph_objects as go\n",
    "\n",
    "\n",
    "_PRESENCE_THRESHOLD = 0.5\n",
    "_VISIBILITY_THRESHOLD = 0.5\n",
    "\n",
    "\n",
    "def plot_landmarks(\n",
    "    landmark_list,\n",
    "    connections=None,\n",
    "):\n",
    "    if not landmark_list:\n",
    "        return\n",
    "    plotted_landmarks = {}\n",
    "    for idx, landmark in enumerate(landmark_list.landmark):\n",
    "        if (\n",
    "            landmark.HasField(\"visibility\")\n",
    "            and landmark.visibility < _VISIBILITY_THRESHOLD\n",
    "        ) or (\n",
    "            landmark.HasField(\"presence\") and landmark.presence < _PRESENCE_THRESHOLD\n",
    "        ):\n",
    "            continue\n",
    "        plotted_landmarks[idx] = (-landmark.z, landmark.x, -landmark.y)\n",
    "    if connections:\n",
    "        out_cn = []\n",
    "        num_landmarks = len(landmark_list.landmark)\n",
    "        # Draws the connections if the start and end landmarks are both visible.\n",
    "        for connection in connections:\n",
    "            start_idx = connection[0]\n",
    "            end_idx = connection[1]\n",
    "            if not (0 <= start_idx < num_landmarks and 0 <= end_idx < num_landmarks):\n",
    "                raise ValueError(\n",
    "                    f\"Landmark index is out of range. Invalid connection \"\n",
    "                    f\"from landmark #{start_idx} to landmark #{end_idx}.\"\n",
    "                )\n",
    "            if start_idx in plotted_landmarks and end_idx in plotted_landmarks:\n",
    "                landmark_pair = [\n",
    "                    plotted_landmarks[start_idx],\n",
    "                    plotted_landmarks[end_idx],\n",
    "                ]\n",
    "                out_cn.append(\n",
    "                    dict(\n",
    "                        xs=[landmark_pair[0][0], landmark_pair[1][0]],\n",
    "                        ys=[landmark_pair[0][1], landmark_pair[1][1]],\n",
    "                        zs=[landmark_pair[0][2], landmark_pair[1][2]],\n",
    "                    )\n",
    "                )\n",
    "        cn2 = {\"xs\": [], \"ys\": [], \"zs\": []}\n",
    "        for pair in out_cn:\n",
    "            for k in pair.keys():\n",
    "                cn2[k].append(pair[k][0])\n",
    "                cn2[k].append(pair[k][1])\n",
    "                cn2[k].append(None)\n",
    "\n",
    "    df = pd.DataFrame(plotted_landmarks).T.rename(columns={0: \"z\", 1: \"x\", 2: \"y\"})\n",
    "    df[\"lm\"] = df.index.map(lambda s: mp_holistic.PoseLandmark(s).name).values\n",
    "    fig = (\n",
    "        px.scatter_3d(df, x=\"z\", y=\"x\", z=\"y\", hover_name=\"lm\")\n",
    "        .update_traces(marker={\"color\": \"red\"})\n",
    "        .update_layout(\n",
    "            margin={\"l\": 0, \"r\": 0, \"t\": 0, \"b\": 0},\n",
    "            scene={\"camera\": {\"eye\": {\"x\": 2.1, \"y\": 0, \"z\": 0}}},\n",
    "        )\n",
    "    )\n",
    "    fig.add_traces(\n",
    "        [\n",
    "            go.Scatter3d(\n",
    "                x=cn2[\"xs\"],\n",
    "                y=cn2[\"ys\"],\n",
    "                z=cn2[\"zs\"],\n",
    "                mode=\"lines\",\n",
    "                line={\"color\": \"black\", \"width\": 5},\n",
    "                name=\"connections\",\n",
    "            )\n",
    "        ]\n",
    "    )\n",
    "\n",
    "    return fig\n",
    "\n",
    "plot_landmarks(results, connection)"
   ]
  },
  {
   "cell_type": "code",
   "execution_count": 46,
   "metadata": {},
   "outputs": [
    {
     "name": "stdout",
     "output_type": "stream",
     "text": [
      "frozenset({(15, 21), (16, 20), (18, 20), (3, 7), (14, 16), (23, 25), (28, 30), (11, 23), (27, 31), (6, 8), (15, 17), (24, 26), (16, 22), (4, 5), (5, 6), (29, 31), (12, 24), (23, 24), (0, 1), (9, 10), (1, 2), (0, 4), (11, 13), (30, 32), (28, 32), (15, 19), (16, 18), (25, 27), (26, 28), (12, 14), (17, 19), (2, 3), (11, 12), (27, 29), (13, 15)})\n",
      "[x: -0.15272896\n",
      "y: -0.62249106\n",
      "z: -0.06863727\n",
      "visibility: 0.99973255\n",
      ", x: -0.13673715\n",
      "y: -0.6622831\n",
      "z: -0.08341411\n",
      "visibility: 0.9997543\n",
      ", x: -0.13722497\n",
      "y: -0.662314\n",
      "z: -0.085122734\n",
      "visibility: 0.9997501\n",
      ", x: -0.13696322\n",
      "y: -0.6625914\n",
      "z: -0.083618805\n",
      "visibility: 0.9997965\n",
      ", x: -0.15504645\n",
      "y: -0.6631079\n",
      "z: -0.05832839\n",
      "visibility: 0.9996666\n",
      ", x: -0.15299948\n",
      "y: -0.6642407\n",
      "z: -0.058229372\n",
      "visibility: 0.99959505\n",
      ", x: -0.15363704\n",
      "y: -0.66323185\n",
      "z: -0.05428263\n",
      "visibility: 0.99961996\n",
      ", x: -0.022635378\n",
      "y: -0.66811895\n",
      "z: -0.07735802\n",
      "visibility: 0.99971694\n",
      ", x: -0.09304739\n",
      "y: -0.6714304\n",
      "z: 0.047882885\n",
      "visibility: 0.9993118\n",
      ", x: -0.11048575\n",
      "y: -0.59967065\n",
      "z: -0.0702067\n",
      "visibility: 0.99959624\n",
      ", x: -0.12978373\n",
      "y: -0.59935427\n",
      "z: -0.03300353\n",
      "visibility: 0.9990995\n",
      ", x: 0.07889421\n",
      "y: -0.5089465\n",
      "z: -0.13491507\n",
      "visibility: 0.9999576\n",
      ", x: -0.07633632\n",
      "y: -0.48254812\n",
      "z: 0.155433\n",
      "visibility: 0.9995588\n",
      ", x: 0.12796926\n",
      "y: -0.28804037\n",
      "z: -0.17752343\n",
      "visibility: 0.996659\n",
      ", x: -0.076565154\n",
      "y: -0.24179743\n",
      "z: 0.23474488\n",
      "visibility: 0.34634116\n",
      ", x: -0.05652369\n",
      "y: -0.113214426\n",
      "z: -0.17788415\n",
      "visibility: 0.984622\n",
      ", x: -0.19395077\n",
      "y: -0.114756316\n",
      "z: 0.1634601\n",
      "visibility: 0.55554265\n",
      ", x: -0.09534196\n",
      "y: -0.05103006\n",
      "z: -0.19089456\n",
      "visibility: 0.969788\n",
      ", x: -0.22182317\n",
      "y: -0.074543804\n",
      "z: 0.1438186\n",
      "visibility: 0.5531882\n",
      ", x: -0.12813085\n",
      "y: -0.07698647\n",
      "z: -0.21092373\n",
      "visibility: 0.9674907\n",
      ", x: -0.2271055\n",
      "y: -0.09552749\n",
      "z: 0.11860465\n",
      "visibility: 0.5611347\n",
      ", x: -0.07933784\n",
      "y: -0.11531705\n",
      "z: -0.18261205\n",
      "visibility: 0.9617111\n",
      ", x: -0.19350415\n",
      "y: -0.1129561\n",
      "z: 0.14863776\n",
      "visibility: 0.57515806\n",
      ", x: 0.063882895\n",
      "y: -0.003671065\n",
      "z: -0.09585786\n",
      "visibility: 0.9998445\n",
      ", x: -0.064475365\n",
      "y: 0.0037451487\n",
      "z: 0.09602033\n",
      "visibility: 0.99941665\n",
      ", x: 0.047887463\n",
      "y: 0.3745021\n",
      "z: -0.09455735\n",
      "visibility: 0.91353846\n",
      ", x: -0.10207577\n",
      "y: 0.36313182\n",
      "z: 0.12575983\n",
      "visibility: 0.45012754\n",
      ", x: 0.13455254\n",
      "y: 0.772068\n",
      "z: -0.09357727\n",
      "visibility: 0.9301902\n",
      ", x: -0.07272481\n",
      "y: 0.7017927\n",
      "z: 0.24032037\n",
      "visibility: 0.49633527\n",
      ", x: 0.14363097\n",
      "y: 0.8202106\n",
      "z: -0.100942306\n",
      "visibility: 0.8205395\n",
      ", x: -0.0760722\n",
      "y: 0.7411701\n",
      "z: 0.24611332\n",
      "visibility: 0.49760696\n",
      ", x: 0.04833959\n",
      "y: 0.8681522\n",
      "z: -0.22079341\n",
      "visibility: 0.93549514\n",
      ", x: -0.20500995\n",
      "y: 0.7991022\n",
      "z: 0.18311726\n",
      "visibility: 0.6417332\n",
      "]\n"
     ]
    }
   ],
   "source": [
    "print(connection)\n",
    "print(results.landmark)"
   ]
  },
  {
   "cell_type": "code",
   "execution_count": null,
   "metadata": {},
   "outputs": [],
   "source": []
  }
 ],
 "metadata": {
  "kernelspec": {
   "display_name": "my_env",
   "language": "python",
   "name": "python3"
  },
  "language_info": {
   "codemirror_mode": {
    "name": "ipython",
    "version": 3
   },
   "file_extension": ".py",
   "mimetype": "text/x-python",
   "name": "python",
   "nbconvert_exporter": "python",
   "pygments_lexer": "ipython3",
   "version": "3.11.0"
  }
 },
 "nbformat": 4,
 "nbformat_minor": 2
}
